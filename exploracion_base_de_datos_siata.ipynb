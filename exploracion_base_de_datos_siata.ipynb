{
 "cells": [
  {
   "cell_type": "code",
   "execution_count": 92,
   "metadata": {},
   "outputs": [],
   "source": [
    "#importando librerias requeridas\n",
    "\n",
    "import os\n",
    "import numpy as py\n",
    "import pandas as pd\n",
    "import matplotlib.pyplot as plt\n",
    "import seaborn as sns7\n",
    "from sklearn import linear_model"
   ]
  },
  {
   "cell_type": "code",
   "execution_count": 93,
   "metadata": {},
   "outputs": [],
   "source": [
    "#cargando data set\n",
    "siata = pd.read_csv('estacion_data_calidadaire_4_20170301_20170331.csv')"
   ]
  },
  {
   "cell_type": "code",
   "execution_count": 94,
   "metadata": {},
   "outputs": [
    {
     "data": {
      "text/html": [
       "<div>\n",
       "<style scoped>\n",
       "    .dataframe tbody tr th:only-of-type {\n",
       "        vertical-align: middle;\n",
       "    }\n",
       "\n",
       "    .dataframe tbody tr th {\n",
       "        vertical-align: top;\n",
       "    }\n",
       "\n",
       "    .dataframe thead th {\n",
       "        text-align: right;\n",
       "    }\n",
       "</style>\n",
       "<table border=\"1\" class=\"dataframe\">\n",
       "  <thead>\n",
       "    <tr style=\"text-align: right;\">\n",
       "      <th></th>\n",
       "      <th>fecha</th>\n",
       "      <th>codigoSerial</th>\n",
       "      <th>PM25</th>\n",
       "      <th>calidad_pm25</th>\n",
       "      <th>pm10</th>\n",
       "      <th>calidad_pm10</th>\n",
       "      <th>pm1</th>\n",
       "      <th>calidad_pm1</th>\n",
       "      <th>no</th>\n",
       "      <th>calidad_no</th>\n",
       "      <th>...</th>\n",
       "      <th>p_ssr</th>\n",
       "      <th>calidad_p_ssr</th>\n",
       "      <th>pliquida_ssr</th>\n",
       "      <th>calidad_pliquida_ssr</th>\n",
       "      <th>rglobal_ssr</th>\n",
       "      <th>calidad_rglobal_ssr</th>\n",
       "      <th>taire10_ssr</th>\n",
       "      <th>calidad_taire10_ssr</th>\n",
       "      <th>vviento_ssr</th>\n",
       "      <th>calidad_vviento_ssr</th>\n",
       "    </tr>\n",
       "  </thead>\n",
       "  <tbody>\n",
       "    <tr>\n",
       "      <td>0</td>\n",
       "      <td>2017-03-01 00:00:00</td>\n",
       "      <td>4</td>\n",
       "      <td>-9999.0</td>\n",
       "      <td>1.0</td>\n",
       "      <td>63.0</td>\n",
       "      <td>1.0</td>\n",
       "      <td>-9999.0</td>\n",
       "      <td>1.0</td>\n",
       "      <td>95.0057</td>\n",
       "      <td>1.0</td>\n",
       "      <td>...</td>\n",
       "      <td>-9999.0</td>\n",
       "      <td>1.0</td>\n",
       "      <td>-9999.0</td>\n",
       "      <td>1.0</td>\n",
       "      <td>-9999.0</td>\n",
       "      <td>1.0</td>\n",
       "      <td>-9999.0</td>\n",
       "      <td>1.0</td>\n",
       "      <td>-9999.0</td>\n",
       "      <td>1.0</td>\n",
       "    </tr>\n",
       "    <tr>\n",
       "      <td>1</td>\n",
       "      <td>2017-03-01 01:00:00</td>\n",
       "      <td>4</td>\n",
       "      <td>-9999.0</td>\n",
       "      <td>1.0</td>\n",
       "      <td>48.0</td>\n",
       "      <td>1.0</td>\n",
       "      <td>-9999.0</td>\n",
       "      <td>1.0</td>\n",
       "      <td>48.0926</td>\n",
       "      <td>1.0</td>\n",
       "      <td>...</td>\n",
       "      <td>-9999.0</td>\n",
       "      <td>1.0</td>\n",
       "      <td>-9999.0</td>\n",
       "      <td>1.0</td>\n",
       "      <td>-9999.0</td>\n",
       "      <td>1.0</td>\n",
       "      <td>-9999.0</td>\n",
       "      <td>1.0</td>\n",
       "      <td>-9999.0</td>\n",
       "      <td>1.0</td>\n",
       "    </tr>\n",
       "    <tr>\n",
       "      <td>2</td>\n",
       "      <td>2017-03-01 02:00:00</td>\n",
       "      <td>4</td>\n",
       "      <td>-9999.0</td>\n",
       "      <td>1.0</td>\n",
       "      <td>33.0</td>\n",
       "      <td>1.0</td>\n",
       "      <td>-9999.0</td>\n",
       "      <td>1.0</td>\n",
       "      <td>34.7578</td>\n",
       "      <td>1.0</td>\n",
       "      <td>...</td>\n",
       "      <td>-9999.0</td>\n",
       "      <td>1.0</td>\n",
       "      <td>-9999.0</td>\n",
       "      <td>1.0</td>\n",
       "      <td>-9999.0</td>\n",
       "      <td>1.0</td>\n",
       "      <td>-9999.0</td>\n",
       "      <td>1.0</td>\n",
       "      <td>-9999.0</td>\n",
       "      <td>1.0</td>\n",
       "    </tr>\n",
       "    <tr>\n",
       "      <td>3</td>\n",
       "      <td>2017-03-01 03:00:00</td>\n",
       "      <td>4</td>\n",
       "      <td>-9999.0</td>\n",
       "      <td>1.0</td>\n",
       "      <td>38.0</td>\n",
       "      <td>1.0</td>\n",
       "      <td>-9999.0</td>\n",
       "      <td>1.0</td>\n",
       "      <td>34.4426</td>\n",
       "      <td>1.0</td>\n",
       "      <td>...</td>\n",
       "      <td>-9999.0</td>\n",
       "      <td>1.0</td>\n",
       "      <td>-9999.0</td>\n",
       "      <td>1.0</td>\n",
       "      <td>-9999.0</td>\n",
       "      <td>1.0</td>\n",
       "      <td>-9999.0</td>\n",
       "      <td>1.0</td>\n",
       "      <td>-9999.0</td>\n",
       "      <td>1.0</td>\n",
       "    </tr>\n",
       "    <tr>\n",
       "      <td>4</td>\n",
       "      <td>2017-03-01 04:00:00</td>\n",
       "      <td>4</td>\n",
       "      <td>-9999.0</td>\n",
       "      <td>1.0</td>\n",
       "      <td>34.0</td>\n",
       "      <td>1.0</td>\n",
       "      <td>-9999.0</td>\n",
       "      <td>1.0</td>\n",
       "      <td>34.1442</td>\n",
       "      <td>1.0</td>\n",
       "      <td>...</td>\n",
       "      <td>-9999.0</td>\n",
       "      <td>1.0</td>\n",
       "      <td>-9999.0</td>\n",
       "      <td>1.0</td>\n",
       "      <td>-9999.0</td>\n",
       "      <td>1.0</td>\n",
       "      <td>-9999.0</td>\n",
       "      <td>1.0</td>\n",
       "      <td>-9999.0</td>\n",
       "      <td>1.0</td>\n",
       "    </tr>\n",
       "  </tbody>\n",
       "</table>\n",
       "<p>5 rows × 36 columns</p>\n",
       "</div>"
      ],
      "text/plain": [
       "                 fecha  codigoSerial    PM25  calidad_pm25  pm10  \\\n",
       "0  2017-03-01 00:00:00             4 -9999.0           1.0  63.0   \n",
       "1  2017-03-01 01:00:00             4 -9999.0           1.0  48.0   \n",
       "2  2017-03-01 02:00:00             4 -9999.0           1.0  33.0   \n",
       "3  2017-03-01 03:00:00             4 -9999.0           1.0  38.0   \n",
       "4  2017-03-01 04:00:00             4 -9999.0           1.0  34.0   \n",
       "\n",
       "   calidad_pm10     pm1  calidad_pm1       no  calidad_no  ...   p_ssr  \\\n",
       "0           1.0 -9999.0          1.0  95.0057         1.0  ... -9999.0   \n",
       "1           1.0 -9999.0          1.0  48.0926         1.0  ... -9999.0   \n",
       "2           1.0 -9999.0          1.0  34.7578         1.0  ... -9999.0   \n",
       "3           1.0 -9999.0          1.0  34.4426         1.0  ... -9999.0   \n",
       "4           1.0 -9999.0          1.0  34.1442         1.0  ... -9999.0   \n",
       "\n",
       "   calidad_p_ssr  pliquida_ssr  calidad_pliquida_ssr  rglobal_ssr  \\\n",
       "0            1.0       -9999.0                   1.0      -9999.0   \n",
       "1            1.0       -9999.0                   1.0      -9999.0   \n",
       "2            1.0       -9999.0                   1.0      -9999.0   \n",
       "3            1.0       -9999.0                   1.0      -9999.0   \n",
       "4            1.0       -9999.0                   1.0      -9999.0   \n",
       "\n",
       "   calidad_rglobal_ssr  taire10_ssr  calidad_taire10_ssr  vviento_ssr  \\\n",
       "0                  1.0      -9999.0                  1.0      -9999.0   \n",
       "1                  1.0      -9999.0                  1.0      -9999.0   \n",
       "2                  1.0      -9999.0                  1.0      -9999.0   \n",
       "3                  1.0      -9999.0                  1.0      -9999.0   \n",
       "4                  1.0      -9999.0                  1.0      -9999.0   \n",
       "\n",
       "   calidad_vviento_ssr  \n",
       "0                  1.0  \n",
       "1                  1.0  \n",
       "2                  1.0  \n",
       "3                  1.0  \n",
       "4                  1.0  \n",
       "\n",
       "[5 rows x 36 columns]"
      ]
     },
     "execution_count": 94,
     "metadata": {},
     "output_type": "execute_result"
    }
   ],
   "source": [
    "#mostrando la parte superior de de la tabla\n",
    "siata.head()"
   ]
  },
  {
   "cell_type": "code",
   "execution_count": 95,
   "metadata": {},
   "outputs": [
    {
     "name": "stdout",
     "output_type": "stream",
     "text": [
      "<class 'pandas.core.frame.DataFrame'>\n",
      "RangeIndex: 744 entries, 0 to 743\n",
      "Data columns (total 36 columns):\n",
      "fecha                   744 non-null object\n",
      "codigoSerial            744 non-null int64\n",
      "PM25                    744 non-null float64\n",
      "calidad_pm25            744 non-null float64\n",
      "pm10                    744 non-null float64\n",
      "calidad_pm10            744 non-null float64\n",
      "pm1                     744 non-null float64\n",
      "calidad_pm1             744 non-null float64\n",
      "no                      744 non-null float64\n",
      "calidad_no              744 non-null float64\n",
      "no2                     744 non-null float64\n",
      "calidad_no2             744 non-null float64\n",
      "NOX                     744 non-null float64\n",
      "calidad_nox             744 non-null float64\n",
      "ozono                   744 non-null float64\n",
      "calidad_ozono           744 non-null float64\n",
      "co                      744 non-null float64\n",
      "calidad_co              744 non-null float64\n",
      "so2                     744 non-null float64\n",
      "calidad_so2             744 non-null float64\n",
      "pst                     744 non-null float64\n",
      "calidad_pst             744 non-null float64\n",
      "dviento_ssr             744 non-null float64\n",
      "calidad_dviento_ssr     744 non-null float64\n",
      "haire10_ssr             744 non-null float64\n",
      "calidad_haire10_ssr     744 non-null float64\n",
      "p_ssr                   744 non-null float64\n",
      "calidad_p_ssr           744 non-null float64\n",
      "pliquida_ssr            744 non-null float64\n",
      "calidad_pliquida_ssr    744 non-null float64\n",
      "rglobal_ssr             744 non-null float64\n",
      "calidad_rglobal_ssr     744 non-null float64\n",
      "taire10_ssr             744 non-null float64\n",
      "calidad_taire10_ssr     744 non-null float64\n",
      "vviento_ssr             744 non-null float64\n",
      "calidad_vviento_ssr     744 non-null float64\n",
      "dtypes: float64(34), int64(1), object(1)\n",
      "memory usage: 209.4+ KB\n"
     ]
    }
   ],
   "source": [
    "#inforacion basica de la tabla\n",
    "siata.info()"
   ]
  },
  {
   "cell_type": "code",
   "execution_count": 96,
   "metadata": {},
   "outputs": [
    {
     "data": {
      "text/plain": [
       "-9999.0    744\n",
       "Name: PM25, dtype: int64"
      ]
     },
     "execution_count": 96,
     "metadata": {},
     "output_type": "execute_result"
    }
   ],
   "source": [
    "#contando PM25\n",
    "siata['PM25'].value_counts()"
   ]
  },
  {
   "cell_type": "code",
   "execution_count": 97,
   "metadata": {},
   "outputs": [
    {
     "data": {
      "text/plain": [
       "41.0     21\n",
       "29.0     21\n",
       "28.0     21\n",
       "37.0     20\n",
       "34.0     20\n",
       "         ..\n",
       "12.0      1\n",
       "107.0     1\n",
       "81.0      1\n",
       "82.0      1\n",
       "101.0     1\n",
       "Name: pm10, Length: 113, dtype: int64"
      ]
     },
     "execution_count": 97,
     "metadata": {},
     "output_type": "execute_result"
    }
   ],
   "source": [
    "#contando pm10\n",
    "siata['pm10'].value_counts()"
   ]
  },
  {
   "cell_type": "code",
   "execution_count": 98,
   "metadata": {},
   "outputs": [
    {
     "data": {
      "text/plain": [
       "-9999.0000    9\n",
       " 64.7543      1\n",
       " 32.2086      1\n",
       " 101.7790     1\n",
       " 55.5001      1\n",
       "             ..\n",
       " 45.3747      1\n",
       " 24.4607      1\n",
       " 23.3254      1\n",
       " 90.1708      1\n",
       " 32.8493      1\n",
       "Name: NOX, Length: 736, dtype: int64"
      ]
     },
     "execution_count": 98,
     "metadata": {},
     "output_type": "execute_result"
    }
   ],
   "source": [
    "#contando NOx\n",
    "siata['NOX'].value_counts()"
   ]
  },
  {
   "cell_type": "code",
   "execution_count": 99,
   "metadata": {},
   "outputs": [
    {
     "data": {
      "text/plain": [
       "-9999.0    744\n",
       "Name: so2, dtype: int64"
      ]
     },
     "execution_count": 99,
     "metadata": {},
     "output_type": "execute_result"
    }
   ],
   "source": [
    "##contando SO2\n",
    "siata['so2'].value_counts()"
   ]
  },
  {
   "cell_type": "code",
   "execution_count": 100,
   "metadata": {},
   "outputs": [
    {
     "data": {
      "text/plain": [
       "-9999.0    744\n",
       "Name: ozono, dtype: int64"
      ]
     },
     "execution_count": 100,
     "metadata": {},
     "output_type": "execute_result"
    }
   ],
   "source": [
    "#contando ozono\n",
    "siata['ozono'].value_counts()"
   ]
  },
  {
   "cell_type": "code",
   "execution_count": 101,
   "metadata": {},
   "outputs": [
    {
     "data": {
      "text/html": [
       "<div>\n",
       "<style scoped>\n",
       "    .dataframe tbody tr th:only-of-type {\n",
       "        vertical-align: middle;\n",
       "    }\n",
       "\n",
       "    .dataframe tbody tr th {\n",
       "        vertical-align: top;\n",
       "    }\n",
       "\n",
       "    .dataframe thead th {\n",
       "        text-align: right;\n",
       "    }\n",
       "</style>\n",
       "<table border=\"1\" class=\"dataframe\">\n",
       "  <thead>\n",
       "    <tr style=\"text-align: right;\">\n",
       "      <th></th>\n",
       "      <th>pm10</th>\n",
       "    </tr>\n",
       "    <tr>\n",
       "      <th>fecha</th>\n",
       "      <th></th>\n",
       "    </tr>\n",
       "  </thead>\n",
       "  <tbody>\n",
       "    <tr>\n",
       "      <td>2017-03-01 00:00:00</td>\n",
       "      <td>63.0</td>\n",
       "    </tr>\n",
       "    <tr>\n",
       "      <td>2017-03-01 01:00:00</td>\n",
       "      <td>48.0</td>\n",
       "    </tr>\n",
       "    <tr>\n",
       "      <td>2017-03-01 02:00:00</td>\n",
       "      <td>33.0</td>\n",
       "    </tr>\n",
       "    <tr>\n",
       "      <td>2017-03-01 03:00:00</td>\n",
       "      <td>38.0</td>\n",
       "    </tr>\n",
       "    <tr>\n",
       "      <td>2017-03-01 04:00:00</td>\n",
       "      <td>34.0</td>\n",
       "    </tr>\n",
       "    <tr>\n",
       "      <td>...</td>\n",
       "      <td>...</td>\n",
       "    </tr>\n",
       "    <tr>\n",
       "      <td>2017-03-31 19:00:00</td>\n",
       "      <td>37.0</td>\n",
       "    </tr>\n",
       "    <tr>\n",
       "      <td>2017-03-31 20:00:00</td>\n",
       "      <td>39.0</td>\n",
       "    </tr>\n",
       "    <tr>\n",
       "      <td>2017-03-31 21:00:00</td>\n",
       "      <td>35.0</td>\n",
       "    </tr>\n",
       "    <tr>\n",
       "      <td>2017-03-31 22:00:00</td>\n",
       "      <td>25.0</td>\n",
       "    </tr>\n",
       "    <tr>\n",
       "      <td>2017-03-31 23:00:00</td>\n",
       "      <td>25.0</td>\n",
       "    </tr>\n",
       "  </tbody>\n",
       "</table>\n",
       "<p>744 rows × 1 columns</p>\n",
       "</div>"
      ],
      "text/plain": [
       "                     pm10\n",
       "fecha                    \n",
       "2017-03-01 00:00:00  63.0\n",
       "2017-03-01 01:00:00  48.0\n",
       "2017-03-01 02:00:00  33.0\n",
       "2017-03-01 03:00:00  38.0\n",
       "2017-03-01 04:00:00  34.0\n",
       "...                   ...\n",
       "2017-03-31 19:00:00  37.0\n",
       "2017-03-31 20:00:00  39.0\n",
       "2017-03-31 21:00:00  35.0\n",
       "2017-03-31 22:00:00  25.0\n",
       "2017-03-31 23:00:00  25.0\n",
       "\n",
       "[744 rows x 1 columns]"
      ]
     },
     "execution_count": 101,
     "metadata": {},
     "output_type": "execute_result"
    }
   ],
   "source": [
    "# talba pivote de concentracion del PM10 por dia del mes de marzo\n",
    "siata_pivote_pm10=pd.pivot_table(siata, 'pm10',['fecha'])\n",
    "siata_pivote_pm10"
   ]
  },
  {
   "cell_type": "code",
   "execution_count": 102,
   "metadata": {},
   "outputs": [
    {
     "data": {
      "text/html": [
       "<div>\n",
       "<style scoped>\n",
       "    .dataframe tbody tr th:only-of-type {\n",
       "        vertical-align: middle;\n",
       "    }\n",
       "\n",
       "    .dataframe tbody tr th {\n",
       "        vertical-align: top;\n",
       "    }\n",
       "\n",
       "    .dataframe thead th {\n",
       "        text-align: right;\n",
       "    }\n",
       "</style>\n",
       "<table border=\"1\" class=\"dataframe\">\n",
       "  <thead>\n",
       "    <tr style=\"text-align: right;\">\n",
       "      <th></th>\n",
       "      <th>PM25</th>\n",
       "    </tr>\n",
       "    <tr>\n",
       "      <th>fecha</th>\n",
       "      <th></th>\n",
       "    </tr>\n",
       "  </thead>\n",
       "  <tbody>\n",
       "    <tr>\n",
       "      <td>2017-03-01 00:00:00</td>\n",
       "      <td>-9999.0</td>\n",
       "    </tr>\n",
       "    <tr>\n",
       "      <td>2017-03-01 01:00:00</td>\n",
       "      <td>-9999.0</td>\n",
       "    </tr>\n",
       "    <tr>\n",
       "      <td>2017-03-01 02:00:00</td>\n",
       "      <td>-9999.0</td>\n",
       "    </tr>\n",
       "    <tr>\n",
       "      <td>2017-03-01 03:00:00</td>\n",
       "      <td>-9999.0</td>\n",
       "    </tr>\n",
       "    <tr>\n",
       "      <td>2017-03-01 04:00:00</td>\n",
       "      <td>-9999.0</td>\n",
       "    </tr>\n",
       "    <tr>\n",
       "      <td>...</td>\n",
       "      <td>...</td>\n",
       "    </tr>\n",
       "    <tr>\n",
       "      <td>2017-03-31 19:00:00</td>\n",
       "      <td>-9999.0</td>\n",
       "    </tr>\n",
       "    <tr>\n",
       "      <td>2017-03-31 20:00:00</td>\n",
       "      <td>-9999.0</td>\n",
       "    </tr>\n",
       "    <tr>\n",
       "      <td>2017-03-31 21:00:00</td>\n",
       "      <td>-9999.0</td>\n",
       "    </tr>\n",
       "    <tr>\n",
       "      <td>2017-03-31 22:00:00</td>\n",
       "      <td>-9999.0</td>\n",
       "    </tr>\n",
       "    <tr>\n",
       "      <td>2017-03-31 23:00:00</td>\n",
       "      <td>-9999.0</td>\n",
       "    </tr>\n",
       "  </tbody>\n",
       "</table>\n",
       "<p>744 rows × 1 columns</p>\n",
       "</div>"
      ],
      "text/plain": [
       "                       PM25\n",
       "fecha                      \n",
       "2017-03-01 00:00:00 -9999.0\n",
       "2017-03-01 01:00:00 -9999.0\n",
       "2017-03-01 02:00:00 -9999.0\n",
       "2017-03-01 03:00:00 -9999.0\n",
       "2017-03-01 04:00:00 -9999.0\n",
       "...                     ...\n",
       "2017-03-31 19:00:00 -9999.0\n",
       "2017-03-31 20:00:00 -9999.0\n",
       "2017-03-31 21:00:00 -9999.0\n",
       "2017-03-31 22:00:00 -9999.0\n",
       "2017-03-31 23:00:00 -9999.0\n",
       "\n",
       "[744 rows x 1 columns]"
      ]
     },
     "execution_count": 102,
     "metadata": {},
     "output_type": "execute_result"
    }
   ],
   "source": [
    "# talba pivote de concentracion del PM25 por dia del mes de marzo\n",
    "siata_pivote_pm25=pd.pivot_table(siata, 'PM25',['fecha'])\n",
    "siata_pivote_pm25"
   ]
  },
  {
   "cell_type": "code",
   "execution_count": 103,
   "metadata": {},
   "outputs": [
    {
     "data": {
      "text/html": [
       "<div>\n",
       "<style scoped>\n",
       "    .dataframe tbody tr th:only-of-type {\n",
       "        vertical-align: middle;\n",
       "    }\n",
       "\n",
       "    .dataframe tbody tr th {\n",
       "        vertical-align: top;\n",
       "    }\n",
       "\n",
       "    .dataframe thead th {\n",
       "        text-align: right;\n",
       "    }\n",
       "</style>\n",
       "<table border=\"1\" class=\"dataframe\">\n",
       "  <thead>\n",
       "    <tr style=\"text-align: right;\">\n",
       "      <th></th>\n",
       "      <th>NOX</th>\n",
       "    </tr>\n",
       "    <tr>\n",
       "      <th>fecha</th>\n",
       "      <th></th>\n",
       "    </tr>\n",
       "  </thead>\n",
       "  <tbody>\n",
       "    <tr>\n",
       "      <td>2017-03-01 00:00:00</td>\n",
       "      <td>111.3390</td>\n",
       "    </tr>\n",
       "    <tr>\n",
       "      <td>2017-03-01 01:00:00</td>\n",
       "      <td>61.9292</td>\n",
       "    </tr>\n",
       "    <tr>\n",
       "      <td>2017-03-01 02:00:00</td>\n",
       "      <td>45.2843</td>\n",
       "    </tr>\n",
       "    <tr>\n",
       "      <td>2017-03-01 03:00:00</td>\n",
       "      <td>44.1751</td>\n",
       "    </tr>\n",
       "    <tr>\n",
       "      <td>2017-03-01 04:00:00</td>\n",
       "      <td>41.9300</td>\n",
       "    </tr>\n",
       "    <tr>\n",
       "      <td>...</td>\n",
       "      <td>...</td>\n",
       "    </tr>\n",
       "    <tr>\n",
       "      <td>2017-03-31 19:00:00</td>\n",
       "      <td>62.8103</td>\n",
       "    </tr>\n",
       "    <tr>\n",
       "      <td>2017-03-31 20:00:00</td>\n",
       "      <td>73.5357</td>\n",
       "    </tr>\n",
       "    <tr>\n",
       "      <td>2017-03-31 21:00:00</td>\n",
       "      <td>50.7660</td>\n",
       "    </tr>\n",
       "    <tr>\n",
       "      <td>2017-03-31 22:00:00</td>\n",
       "      <td>49.5433</td>\n",
       "    </tr>\n",
       "    <tr>\n",
       "      <td>2017-03-31 23:00:00</td>\n",
       "      <td>35.4089</td>\n",
       "    </tr>\n",
       "  </tbody>\n",
       "</table>\n",
       "<p>744 rows × 1 columns</p>\n",
       "</div>"
      ],
      "text/plain": [
       "                          NOX\n",
       "fecha                        \n",
       "2017-03-01 00:00:00  111.3390\n",
       "2017-03-01 01:00:00   61.9292\n",
       "2017-03-01 02:00:00   45.2843\n",
       "2017-03-01 03:00:00   44.1751\n",
       "2017-03-01 04:00:00   41.9300\n",
       "...                       ...\n",
       "2017-03-31 19:00:00   62.8103\n",
       "2017-03-31 20:00:00   73.5357\n",
       "2017-03-31 21:00:00   50.7660\n",
       "2017-03-31 22:00:00   49.5433\n",
       "2017-03-31 23:00:00   35.4089\n",
       "\n",
       "[744 rows x 1 columns]"
      ]
     },
     "execution_count": 103,
     "metadata": {},
     "output_type": "execute_result"
    }
   ],
   "source": [
    "# talba pivote de concentracion del NOX por dia del mes de marzo\n",
    "siata_pivote_NOX=pd.pivot_table(siata, 'NOX',['fecha'])\n",
    "siata_pivote_NOX"
   ]
  },
  {
   "cell_type": "code",
   "execution_count": 104,
   "metadata": {},
   "outputs": [
    {
     "data": {
      "text/html": [
       "<div>\n",
       "<style scoped>\n",
       "    .dataframe tbody tr th:only-of-type {\n",
       "        vertical-align: middle;\n",
       "    }\n",
       "\n",
       "    .dataframe tbody tr th {\n",
       "        vertical-align: top;\n",
       "    }\n",
       "\n",
       "    .dataframe thead th {\n",
       "        text-align: right;\n",
       "    }\n",
       "</style>\n",
       "<table border=\"1\" class=\"dataframe\">\n",
       "  <thead>\n",
       "    <tr style=\"text-align: right;\">\n",
       "      <th></th>\n",
       "      <th>no2</th>\n",
       "    </tr>\n",
       "    <tr>\n",
       "      <th>fecha</th>\n",
       "      <th></th>\n",
       "    </tr>\n",
       "  </thead>\n",
       "  <tbody>\n",
       "    <tr>\n",
       "      <td>2017-03-01 00:00:00</td>\n",
       "      <td>15.85690</td>\n",
       "    </tr>\n",
       "    <tr>\n",
       "      <td>2017-03-01 01:00:00</td>\n",
       "      <td>13.47360</td>\n",
       "    </tr>\n",
       "    <tr>\n",
       "      <td>2017-03-01 02:00:00</td>\n",
       "      <td>10.39640</td>\n",
       "    </tr>\n",
       "    <tr>\n",
       "      <td>2017-03-01 03:00:00</td>\n",
       "      <td>9.58667</td>\n",
       "    </tr>\n",
       "    <tr>\n",
       "      <td>2017-03-01 04:00:00</td>\n",
       "      <td>7.60264</td>\n",
       "    </tr>\n",
       "    <tr>\n",
       "      <td>...</td>\n",
       "      <td>...</td>\n",
       "    </tr>\n",
       "    <tr>\n",
       "      <td>2017-03-31 19:00:00</td>\n",
       "      <td>24.60030</td>\n",
       "    </tr>\n",
       "    <tr>\n",
       "      <td>2017-03-31 20:00:00</td>\n",
       "      <td>23.27190</td>\n",
       "    </tr>\n",
       "    <tr>\n",
       "      <td>2017-03-31 21:00:00</td>\n",
       "      <td>20.77260</td>\n",
       "    </tr>\n",
       "    <tr>\n",
       "      <td>2017-03-31 22:00:00</td>\n",
       "      <td>19.34150</td>\n",
       "    </tr>\n",
       "    <tr>\n",
       "      <td>2017-03-31 23:00:00</td>\n",
       "      <td>17.38790</td>\n",
       "    </tr>\n",
       "  </tbody>\n",
       "</table>\n",
       "<p>744 rows × 1 columns</p>\n",
       "</div>"
      ],
      "text/plain": [
       "                          no2\n",
       "fecha                        \n",
       "2017-03-01 00:00:00  15.85690\n",
       "2017-03-01 01:00:00  13.47360\n",
       "2017-03-01 02:00:00  10.39640\n",
       "2017-03-01 03:00:00   9.58667\n",
       "2017-03-01 04:00:00   7.60264\n",
       "...                       ...\n",
       "2017-03-31 19:00:00  24.60030\n",
       "2017-03-31 20:00:00  23.27190\n",
       "2017-03-31 21:00:00  20.77260\n",
       "2017-03-31 22:00:00  19.34150\n",
       "2017-03-31 23:00:00  17.38790\n",
       "\n",
       "[744 rows x 1 columns]"
      ]
     },
     "execution_count": 104,
     "metadata": {},
     "output_type": "execute_result"
    }
   ],
   "source": [
    "# talba pivote de concentracion del NO2 por dia del mes de marzo\n",
    "siata_pivote_no2=pd.pivot_table(siata, 'no2',['fecha'])\n",
    "siata_pivote_no2"
   ]
  },
  {
   "cell_type": "code",
   "execution_count": 105,
   "metadata": {},
   "outputs": [
    {
     "data": {
      "text/html": [
       "<div>\n",
       "<style scoped>\n",
       "    .dataframe tbody tr th:only-of-type {\n",
       "        vertical-align: middle;\n",
       "    }\n",
       "\n",
       "    .dataframe tbody tr th {\n",
       "        vertical-align: top;\n",
       "    }\n",
       "\n",
       "    .dataframe thead th {\n",
       "        text-align: right;\n",
       "    }\n",
       "</style>\n",
       "<table border=\"1\" class=\"dataframe\">\n",
       "  <thead>\n",
       "    <tr style=\"text-align: right;\">\n",
       "      <th></th>\n",
       "      <th>co</th>\n",
       "    </tr>\n",
       "    <tr>\n",
       "      <th>fecha</th>\n",
       "      <th></th>\n",
       "    </tr>\n",
       "  </thead>\n",
       "  <tbody>\n",
       "    <tr>\n",
       "      <td>2017-03-01 00:00:00</td>\n",
       "      <td>-9999.0</td>\n",
       "    </tr>\n",
       "    <tr>\n",
       "      <td>2017-03-01 01:00:00</td>\n",
       "      <td>-9999.0</td>\n",
       "    </tr>\n",
       "    <tr>\n",
       "      <td>2017-03-01 02:00:00</td>\n",
       "      <td>-9999.0</td>\n",
       "    </tr>\n",
       "    <tr>\n",
       "      <td>2017-03-01 03:00:00</td>\n",
       "      <td>-9999.0</td>\n",
       "    </tr>\n",
       "    <tr>\n",
       "      <td>2017-03-01 04:00:00</td>\n",
       "      <td>-9999.0</td>\n",
       "    </tr>\n",
       "    <tr>\n",
       "      <td>...</td>\n",
       "      <td>...</td>\n",
       "    </tr>\n",
       "    <tr>\n",
       "      <td>2017-03-31 19:00:00</td>\n",
       "      <td>-9999.0</td>\n",
       "    </tr>\n",
       "    <tr>\n",
       "      <td>2017-03-31 20:00:00</td>\n",
       "      <td>-9999.0</td>\n",
       "    </tr>\n",
       "    <tr>\n",
       "      <td>2017-03-31 21:00:00</td>\n",
       "      <td>-9999.0</td>\n",
       "    </tr>\n",
       "    <tr>\n",
       "      <td>2017-03-31 22:00:00</td>\n",
       "      <td>-9999.0</td>\n",
       "    </tr>\n",
       "    <tr>\n",
       "      <td>2017-03-31 23:00:00</td>\n",
       "      <td>-9999.0</td>\n",
       "    </tr>\n",
       "  </tbody>\n",
       "</table>\n",
       "<p>744 rows × 1 columns</p>\n",
       "</div>"
      ],
      "text/plain": [
       "                         co\n",
       "fecha                      \n",
       "2017-03-01 00:00:00 -9999.0\n",
       "2017-03-01 01:00:00 -9999.0\n",
       "2017-03-01 02:00:00 -9999.0\n",
       "2017-03-01 03:00:00 -9999.0\n",
       "2017-03-01 04:00:00 -9999.0\n",
       "...                     ...\n",
       "2017-03-31 19:00:00 -9999.0\n",
       "2017-03-31 20:00:00 -9999.0\n",
       "2017-03-31 21:00:00 -9999.0\n",
       "2017-03-31 22:00:00 -9999.0\n",
       "2017-03-31 23:00:00 -9999.0\n",
       "\n",
       "[744 rows x 1 columns]"
      ]
     },
     "execution_count": 105,
     "metadata": {},
     "output_type": "execute_result"
    }
   ],
   "source": [
    "# talba pivote de concentracion del NO por dia del mes de marzo\n",
    "siata_pivote_co=pd.pivot_table(siata, 'co',['fecha'])\n",
    "siata_pivote_co"
   ]
  },
  {
   "cell_type": "code",
   "execution_count": 106,
   "metadata": {},
   "outputs": [
    {
     "data": {
      "text/html": [
       "<div>\n",
       "<style scoped>\n",
       "    .dataframe tbody tr th:only-of-type {\n",
       "        vertical-align: middle;\n",
       "    }\n",
       "\n",
       "    .dataframe tbody tr th {\n",
       "        vertical-align: top;\n",
       "    }\n",
       "\n",
       "    .dataframe thead th {\n",
       "        text-align: right;\n",
       "    }\n",
       "</style>\n",
       "<table border=\"1\" class=\"dataframe\">\n",
       "  <thead>\n",
       "    <tr style=\"text-align: right;\">\n",
       "      <th></th>\n",
       "      <th>pm1</th>\n",
       "    </tr>\n",
       "    <tr>\n",
       "      <th>fecha</th>\n",
       "      <th></th>\n",
       "    </tr>\n",
       "  </thead>\n",
       "  <tbody>\n",
       "    <tr>\n",
       "      <td>2017-03-01 00:00:00</td>\n",
       "      <td>-9999.0</td>\n",
       "    </tr>\n",
       "    <tr>\n",
       "      <td>2017-03-01 01:00:00</td>\n",
       "      <td>-9999.0</td>\n",
       "    </tr>\n",
       "    <tr>\n",
       "      <td>2017-03-01 02:00:00</td>\n",
       "      <td>-9999.0</td>\n",
       "    </tr>\n",
       "    <tr>\n",
       "      <td>2017-03-01 03:00:00</td>\n",
       "      <td>-9999.0</td>\n",
       "    </tr>\n",
       "    <tr>\n",
       "      <td>2017-03-01 04:00:00</td>\n",
       "      <td>-9999.0</td>\n",
       "    </tr>\n",
       "    <tr>\n",
       "      <td>...</td>\n",
       "      <td>...</td>\n",
       "    </tr>\n",
       "    <tr>\n",
       "      <td>2017-03-31 19:00:00</td>\n",
       "      <td>-9999.0</td>\n",
       "    </tr>\n",
       "    <tr>\n",
       "      <td>2017-03-31 20:00:00</td>\n",
       "      <td>-9999.0</td>\n",
       "    </tr>\n",
       "    <tr>\n",
       "      <td>2017-03-31 21:00:00</td>\n",
       "      <td>-9999.0</td>\n",
       "    </tr>\n",
       "    <tr>\n",
       "      <td>2017-03-31 22:00:00</td>\n",
       "      <td>-9999.0</td>\n",
       "    </tr>\n",
       "    <tr>\n",
       "      <td>2017-03-31 23:00:00</td>\n",
       "      <td>-9999.0</td>\n",
       "    </tr>\n",
       "  </tbody>\n",
       "</table>\n",
       "<p>744 rows × 1 columns</p>\n",
       "</div>"
      ],
      "text/plain": [
       "                        pm1\n",
       "fecha                      \n",
       "2017-03-01 00:00:00 -9999.0\n",
       "2017-03-01 01:00:00 -9999.0\n",
       "2017-03-01 02:00:00 -9999.0\n",
       "2017-03-01 03:00:00 -9999.0\n",
       "2017-03-01 04:00:00 -9999.0\n",
       "...                     ...\n",
       "2017-03-31 19:00:00 -9999.0\n",
       "2017-03-31 20:00:00 -9999.0\n",
       "2017-03-31 21:00:00 -9999.0\n",
       "2017-03-31 22:00:00 -9999.0\n",
       "2017-03-31 23:00:00 -9999.0\n",
       "\n",
       "[744 rows x 1 columns]"
      ]
     },
     "execution_count": 106,
     "metadata": {},
     "output_type": "execute_result"
    }
   ],
   "source": [
    "# talba pivote de concentracion del PM25 por dia del mes de marzo\n",
    "siata_pivote_pm1=pd.pivot_table(siata, 'pm1',['fecha'])\n",
    "siata_pivote_pm1\n"
   ]
  },
  {
   "cell_type": "code",
   "execution_count": 107,
   "metadata": {},
   "outputs": [
    {
     "data": {
      "text/html": [
       "<div>\n",
       "<style scoped>\n",
       "    .dataframe tbody tr th:only-of-type {\n",
       "        vertical-align: middle;\n",
       "    }\n",
       "\n",
       "    .dataframe tbody tr th {\n",
       "        vertical-align: top;\n",
       "    }\n",
       "\n",
       "    .dataframe thead th {\n",
       "        text-align: right;\n",
       "    }\n",
       "</style>\n",
       "<table border=\"1\" class=\"dataframe\">\n",
       "  <thead>\n",
       "    <tr style=\"text-align: right;\">\n",
       "      <th></th>\n",
       "      <th>no</th>\n",
       "    </tr>\n",
       "    <tr>\n",
       "      <th>fecha</th>\n",
       "      <th></th>\n",
       "    </tr>\n",
       "  </thead>\n",
       "  <tbody>\n",
       "    <tr>\n",
       "      <td>2017-03-01 00:00:00</td>\n",
       "      <td>95.0057</td>\n",
       "    </tr>\n",
       "    <tr>\n",
       "      <td>2017-03-01 01:00:00</td>\n",
       "      <td>48.0926</td>\n",
       "    </tr>\n",
       "    <tr>\n",
       "      <td>2017-03-01 02:00:00</td>\n",
       "      <td>34.7578</td>\n",
       "    </tr>\n",
       "    <tr>\n",
       "      <td>2017-03-01 03:00:00</td>\n",
       "      <td>34.4426</td>\n",
       "    </tr>\n",
       "    <tr>\n",
       "      <td>2017-03-01 04:00:00</td>\n",
       "      <td>34.1442</td>\n",
       "    </tr>\n",
       "    <tr>\n",
       "      <td>...</td>\n",
       "      <td>...</td>\n",
       "    </tr>\n",
       "    <tr>\n",
       "      <td>2017-03-31 19:00:00</td>\n",
       "      <td>38.2679</td>\n",
       "    </tr>\n",
       "    <tr>\n",
       "      <td>2017-03-31 20:00:00</td>\n",
       "      <td>50.0978</td>\n",
       "    </tr>\n",
       "    <tr>\n",
       "      <td>2017-03-31 21:00:00</td>\n",
       "      <td>29.9024</td>\n",
       "    </tr>\n",
       "    <tr>\n",
       "      <td>2017-03-31 22:00:00</td>\n",
       "      <td>30.2047</td>\n",
       "    </tr>\n",
       "    <tr>\n",
       "      <td>2017-03-31 23:00:00</td>\n",
       "      <td>17.9797</td>\n",
       "    </tr>\n",
       "  </tbody>\n",
       "</table>\n",
       "<p>744 rows × 1 columns</p>\n",
       "</div>"
      ],
      "text/plain": [
       "                          no\n",
       "fecha                       \n",
       "2017-03-01 00:00:00  95.0057\n",
       "2017-03-01 01:00:00  48.0926\n",
       "2017-03-01 02:00:00  34.7578\n",
       "2017-03-01 03:00:00  34.4426\n",
       "2017-03-01 04:00:00  34.1442\n",
       "...                      ...\n",
       "2017-03-31 19:00:00  38.2679\n",
       "2017-03-31 20:00:00  50.0978\n",
       "2017-03-31 21:00:00  29.9024\n",
       "2017-03-31 22:00:00  30.2047\n",
       "2017-03-31 23:00:00  17.9797\n",
       "\n",
       "[744 rows x 1 columns]"
      ]
     },
     "execution_count": 107,
     "metadata": {},
     "output_type": "execute_result"
    }
   ],
   "source": [
    "# talba pivote de concentracion del NO por dia del mes de marzo\n",
    "siata_pivote_no=pd.pivot_table(siata, 'no',['fecha'])\n",
    "siata_pivote_no"
   ]
  },
  {
   "cell_type": "code",
   "execution_count": 108,
   "metadata": {},
   "outputs": [
    {
     "data": {
      "text/plain": [
       "<matplotlib.axes._subplots.AxesSubplot at 0x20fee12f508>"
      ]
     },
     "execution_count": 108,
     "metadata": {},
     "output_type": "execute_result"
    },
    {
     "name": "stdout",
     "output_type": "stream",
     "text": [
      "Error in callback <function install_repl_displayhook.<locals>.post_execute at 0x0000020F8DC5F8B8> (for post_execute):\n"
     ]
    },
    {
     "ename": "KeyboardInterrupt",
     "evalue": "",
     "output_type": "error",
     "traceback": [
      "\u001b[1;31m---------------------------------------------------------------------------\u001b[0m",
      "\u001b[1;31mKeyboardInterrupt\u001b[0m                         Traceback (most recent call last)",
      "\u001b[1;32m~\\Anaconda3\\lib\\site-packages\\matplotlib\\pyplot.py\u001b[0m in \u001b[0;36mpost_execute\u001b[1;34m()\u001b[0m\n\u001b[0;32m    107\u001b[0m             \u001b[1;32mdef\u001b[0m \u001b[0mpost_execute\u001b[0m\u001b[1;33m(\u001b[0m\u001b[1;33m)\u001b[0m\u001b[1;33m:\u001b[0m\u001b[1;33m\u001b[0m\u001b[1;33m\u001b[0m\u001b[0m\n\u001b[0;32m    108\u001b[0m                 \u001b[1;32mif\u001b[0m \u001b[0mmatplotlib\u001b[0m\u001b[1;33m.\u001b[0m\u001b[0mis_interactive\u001b[0m\u001b[1;33m(\u001b[0m\u001b[1;33m)\u001b[0m\u001b[1;33m:\u001b[0m\u001b[1;33m\u001b[0m\u001b[1;33m\u001b[0m\u001b[0m\n\u001b[1;32m--> 109\u001b[1;33m                     \u001b[0mdraw_all\u001b[0m\u001b[1;33m(\u001b[0m\u001b[1;33m)\u001b[0m\u001b[1;33m\u001b[0m\u001b[1;33m\u001b[0m\u001b[0m\n\u001b[0m\u001b[0;32m    110\u001b[0m \u001b[1;33m\u001b[0m\u001b[0m\n\u001b[0;32m    111\u001b[0m             \u001b[1;31m# IPython >= 2\u001b[0m\u001b[1;33m\u001b[0m\u001b[1;33m\u001b[0m\u001b[1;33m\u001b[0m\u001b[0m\n",
      "\u001b[1;32m~\\Anaconda3\\lib\\site-packages\\matplotlib\\_pylab_helpers.py\u001b[0m in \u001b[0;36mdraw_all\u001b[1;34m(cls, force)\u001b[0m\n\u001b[0;32m    126\u001b[0m         \u001b[1;32mfor\u001b[0m \u001b[0mf_mgr\u001b[0m \u001b[1;32min\u001b[0m \u001b[0mcls\u001b[0m\u001b[1;33m.\u001b[0m\u001b[0mget_all_fig_managers\u001b[0m\u001b[1;33m(\u001b[0m\u001b[1;33m)\u001b[0m\u001b[1;33m:\u001b[0m\u001b[1;33m\u001b[0m\u001b[1;33m\u001b[0m\u001b[0m\n\u001b[0;32m    127\u001b[0m             \u001b[1;32mif\u001b[0m \u001b[0mforce\u001b[0m \u001b[1;32mor\u001b[0m \u001b[0mf_mgr\u001b[0m\u001b[1;33m.\u001b[0m\u001b[0mcanvas\u001b[0m\u001b[1;33m.\u001b[0m\u001b[0mfigure\u001b[0m\u001b[1;33m.\u001b[0m\u001b[0mstale\u001b[0m\u001b[1;33m:\u001b[0m\u001b[1;33m\u001b[0m\u001b[1;33m\u001b[0m\u001b[0m\n\u001b[1;32m--> 128\u001b[1;33m                 \u001b[0mf_mgr\u001b[0m\u001b[1;33m.\u001b[0m\u001b[0mcanvas\u001b[0m\u001b[1;33m.\u001b[0m\u001b[0mdraw_idle\u001b[0m\u001b[1;33m(\u001b[0m\u001b[1;33m)\u001b[0m\u001b[1;33m\u001b[0m\u001b[1;33m\u001b[0m\u001b[0m\n\u001b[0m\u001b[0;32m    129\u001b[0m \u001b[1;33m\u001b[0m\u001b[0m\n\u001b[0;32m    130\u001b[0m \u001b[0matexit\u001b[0m\u001b[1;33m.\u001b[0m\u001b[0mregister\u001b[0m\u001b[1;33m(\u001b[0m\u001b[0mGcf\u001b[0m\u001b[1;33m.\u001b[0m\u001b[0mdestroy_all\u001b[0m\u001b[1;33m)\u001b[0m\u001b[1;33m\u001b[0m\u001b[1;33m\u001b[0m\u001b[0m\n",
      "\u001b[1;32m~\\Anaconda3\\lib\\site-packages\\matplotlib\\backend_bases.py\u001b[0m in \u001b[0;36mdraw_idle\u001b[1;34m(self, *args, **kwargs)\u001b[0m\n\u001b[0;32m   1905\u001b[0m         \u001b[1;32mif\u001b[0m \u001b[1;32mnot\u001b[0m \u001b[0mself\u001b[0m\u001b[1;33m.\u001b[0m\u001b[0m_is_idle_drawing\u001b[0m\u001b[1;33m:\u001b[0m\u001b[1;33m\u001b[0m\u001b[1;33m\u001b[0m\u001b[0m\n\u001b[0;32m   1906\u001b[0m             \u001b[1;32mwith\u001b[0m \u001b[0mself\u001b[0m\u001b[1;33m.\u001b[0m\u001b[0m_idle_draw_cntx\u001b[0m\u001b[1;33m(\u001b[0m\u001b[1;33m)\u001b[0m\u001b[1;33m:\u001b[0m\u001b[1;33m\u001b[0m\u001b[1;33m\u001b[0m\u001b[0m\n\u001b[1;32m-> 1907\u001b[1;33m                 \u001b[0mself\u001b[0m\u001b[1;33m.\u001b[0m\u001b[0mdraw\u001b[0m\u001b[1;33m(\u001b[0m\u001b[1;33m*\u001b[0m\u001b[0margs\u001b[0m\u001b[1;33m,\u001b[0m \u001b[1;33m**\u001b[0m\u001b[0mkwargs\u001b[0m\u001b[1;33m)\u001b[0m\u001b[1;33m\u001b[0m\u001b[1;33m\u001b[0m\u001b[0m\n\u001b[0m\u001b[0;32m   1908\u001b[0m \u001b[1;33m\u001b[0m\u001b[0m\n\u001b[0;32m   1909\u001b[0m     \u001b[1;32mdef\u001b[0m \u001b[0mdraw_cursor\u001b[0m\u001b[1;33m(\u001b[0m\u001b[0mself\u001b[0m\u001b[1;33m,\u001b[0m \u001b[0mevent\u001b[0m\u001b[1;33m)\u001b[0m\u001b[1;33m:\u001b[0m\u001b[1;33m\u001b[0m\u001b[1;33m\u001b[0m\u001b[0m\n",
      "\u001b[1;32m~\\Anaconda3\\lib\\site-packages\\matplotlib\\backends\\backend_agg.py\u001b[0m in \u001b[0;36mdraw\u001b[1;34m(self)\u001b[0m\n\u001b[0;32m    386\u001b[0m         \u001b[0mself\u001b[0m\u001b[1;33m.\u001b[0m\u001b[0mrenderer\u001b[0m \u001b[1;33m=\u001b[0m \u001b[0mself\u001b[0m\u001b[1;33m.\u001b[0m\u001b[0mget_renderer\u001b[0m\u001b[1;33m(\u001b[0m\u001b[0mcleared\u001b[0m\u001b[1;33m=\u001b[0m\u001b[1;32mTrue\u001b[0m\u001b[1;33m)\u001b[0m\u001b[1;33m\u001b[0m\u001b[1;33m\u001b[0m\u001b[0m\n\u001b[0;32m    387\u001b[0m         \u001b[1;32mwith\u001b[0m \u001b[0mRendererAgg\u001b[0m\u001b[1;33m.\u001b[0m\u001b[0mlock\u001b[0m\u001b[1;33m:\u001b[0m\u001b[1;33m\u001b[0m\u001b[1;33m\u001b[0m\u001b[0m\n\u001b[1;32m--> 388\u001b[1;33m             \u001b[0mself\u001b[0m\u001b[1;33m.\u001b[0m\u001b[0mfigure\u001b[0m\u001b[1;33m.\u001b[0m\u001b[0mdraw\u001b[0m\u001b[1;33m(\u001b[0m\u001b[0mself\u001b[0m\u001b[1;33m.\u001b[0m\u001b[0mrenderer\u001b[0m\u001b[1;33m)\u001b[0m\u001b[1;33m\u001b[0m\u001b[1;33m\u001b[0m\u001b[0m\n\u001b[0m\u001b[0;32m    389\u001b[0m             \u001b[1;31m# A GUI class may be need to update a window using this draw, so\u001b[0m\u001b[1;33m\u001b[0m\u001b[1;33m\u001b[0m\u001b[1;33m\u001b[0m\u001b[0m\n\u001b[0;32m    390\u001b[0m             \u001b[1;31m# don't forget to call the superclass.\u001b[0m\u001b[1;33m\u001b[0m\u001b[1;33m\u001b[0m\u001b[1;33m\u001b[0m\u001b[0m\n",
      "\u001b[1;32m~\\Anaconda3\\lib\\site-packages\\matplotlib\\artist.py\u001b[0m in \u001b[0;36mdraw_wrapper\u001b[1;34m(artist, renderer, *args, **kwargs)\u001b[0m\n\u001b[0;32m     36\u001b[0m                 \u001b[0mrenderer\u001b[0m\u001b[1;33m.\u001b[0m\u001b[0mstart_filter\u001b[0m\u001b[1;33m(\u001b[0m\u001b[1;33m)\u001b[0m\u001b[1;33m\u001b[0m\u001b[1;33m\u001b[0m\u001b[0m\n\u001b[0;32m     37\u001b[0m \u001b[1;33m\u001b[0m\u001b[0m\n\u001b[1;32m---> 38\u001b[1;33m             \u001b[1;32mreturn\u001b[0m \u001b[0mdraw\u001b[0m\u001b[1;33m(\u001b[0m\u001b[0martist\u001b[0m\u001b[1;33m,\u001b[0m \u001b[0mrenderer\u001b[0m\u001b[1;33m,\u001b[0m \u001b[1;33m*\u001b[0m\u001b[0margs\u001b[0m\u001b[1;33m,\u001b[0m \u001b[1;33m**\u001b[0m\u001b[0mkwargs\u001b[0m\u001b[1;33m)\u001b[0m\u001b[1;33m\u001b[0m\u001b[1;33m\u001b[0m\u001b[0m\n\u001b[0m\u001b[0;32m     39\u001b[0m         \u001b[1;32mfinally\u001b[0m\u001b[1;33m:\u001b[0m\u001b[1;33m\u001b[0m\u001b[1;33m\u001b[0m\u001b[0m\n\u001b[0;32m     40\u001b[0m             \u001b[1;32mif\u001b[0m \u001b[0martist\u001b[0m\u001b[1;33m.\u001b[0m\u001b[0mget_agg_filter\u001b[0m\u001b[1;33m(\u001b[0m\u001b[1;33m)\u001b[0m \u001b[1;32mis\u001b[0m \u001b[1;32mnot\u001b[0m \u001b[1;32mNone\u001b[0m\u001b[1;33m:\u001b[0m\u001b[1;33m\u001b[0m\u001b[1;33m\u001b[0m\u001b[0m\n",
      "\u001b[1;32m~\\Anaconda3\\lib\\site-packages\\matplotlib\\figure.py\u001b[0m in \u001b[0;36mdraw\u001b[1;34m(self, renderer)\u001b[0m\n\u001b[0;32m   1707\u001b[0m             \u001b[0mself\u001b[0m\u001b[1;33m.\u001b[0m\u001b[0mpatch\u001b[0m\u001b[1;33m.\u001b[0m\u001b[0mdraw\u001b[0m\u001b[1;33m(\u001b[0m\u001b[0mrenderer\u001b[0m\u001b[1;33m)\u001b[0m\u001b[1;33m\u001b[0m\u001b[1;33m\u001b[0m\u001b[0m\n\u001b[0;32m   1708\u001b[0m             mimage._draw_list_compositing_images(\n\u001b[1;32m-> 1709\u001b[1;33m                 renderer, self, artists, self.suppressComposite)\n\u001b[0m\u001b[0;32m   1710\u001b[0m \u001b[1;33m\u001b[0m\u001b[0m\n\u001b[0;32m   1711\u001b[0m             \u001b[0mrenderer\u001b[0m\u001b[1;33m.\u001b[0m\u001b[0mclose_group\u001b[0m\u001b[1;33m(\u001b[0m\u001b[1;34m'figure'\u001b[0m\u001b[1;33m)\u001b[0m\u001b[1;33m\u001b[0m\u001b[1;33m\u001b[0m\u001b[0m\n",
      "\u001b[1;32m~\\Anaconda3\\lib\\site-packages\\matplotlib\\image.py\u001b[0m in \u001b[0;36m_draw_list_compositing_images\u001b[1;34m(renderer, parent, artists, suppress_composite)\u001b[0m\n\u001b[0;32m    133\u001b[0m     \u001b[1;32mif\u001b[0m \u001b[0mnot_composite\u001b[0m \u001b[1;32mor\u001b[0m \u001b[1;32mnot\u001b[0m \u001b[0mhas_images\u001b[0m\u001b[1;33m:\u001b[0m\u001b[1;33m\u001b[0m\u001b[1;33m\u001b[0m\u001b[0m\n\u001b[0;32m    134\u001b[0m         \u001b[1;32mfor\u001b[0m \u001b[0ma\u001b[0m \u001b[1;32min\u001b[0m \u001b[0martists\u001b[0m\u001b[1;33m:\u001b[0m\u001b[1;33m\u001b[0m\u001b[1;33m\u001b[0m\u001b[0m\n\u001b[1;32m--> 135\u001b[1;33m             \u001b[0ma\u001b[0m\u001b[1;33m.\u001b[0m\u001b[0mdraw\u001b[0m\u001b[1;33m(\u001b[0m\u001b[0mrenderer\u001b[0m\u001b[1;33m)\u001b[0m\u001b[1;33m\u001b[0m\u001b[1;33m\u001b[0m\u001b[0m\n\u001b[0m\u001b[0;32m    136\u001b[0m     \u001b[1;32melse\u001b[0m\u001b[1;33m:\u001b[0m\u001b[1;33m\u001b[0m\u001b[1;33m\u001b[0m\u001b[0m\n\u001b[0;32m    137\u001b[0m         \u001b[1;31m# Composite any adjacent images together\u001b[0m\u001b[1;33m\u001b[0m\u001b[1;33m\u001b[0m\u001b[1;33m\u001b[0m\u001b[0m\n",
      "\u001b[1;32m~\\Anaconda3\\lib\\site-packages\\matplotlib\\artist.py\u001b[0m in \u001b[0;36mdraw_wrapper\u001b[1;34m(artist, renderer, *args, **kwargs)\u001b[0m\n\u001b[0;32m     36\u001b[0m                 \u001b[0mrenderer\u001b[0m\u001b[1;33m.\u001b[0m\u001b[0mstart_filter\u001b[0m\u001b[1;33m(\u001b[0m\u001b[1;33m)\u001b[0m\u001b[1;33m\u001b[0m\u001b[1;33m\u001b[0m\u001b[0m\n\u001b[0;32m     37\u001b[0m \u001b[1;33m\u001b[0m\u001b[0m\n\u001b[1;32m---> 38\u001b[1;33m             \u001b[1;32mreturn\u001b[0m \u001b[0mdraw\u001b[0m\u001b[1;33m(\u001b[0m\u001b[0martist\u001b[0m\u001b[1;33m,\u001b[0m \u001b[0mrenderer\u001b[0m\u001b[1;33m,\u001b[0m \u001b[1;33m*\u001b[0m\u001b[0margs\u001b[0m\u001b[1;33m,\u001b[0m \u001b[1;33m**\u001b[0m\u001b[0mkwargs\u001b[0m\u001b[1;33m)\u001b[0m\u001b[1;33m\u001b[0m\u001b[1;33m\u001b[0m\u001b[0m\n\u001b[0m\u001b[0;32m     39\u001b[0m         \u001b[1;32mfinally\u001b[0m\u001b[1;33m:\u001b[0m\u001b[1;33m\u001b[0m\u001b[1;33m\u001b[0m\u001b[0m\n\u001b[0;32m     40\u001b[0m             \u001b[1;32mif\u001b[0m \u001b[0martist\u001b[0m\u001b[1;33m.\u001b[0m\u001b[0mget_agg_filter\u001b[0m\u001b[1;33m(\u001b[0m\u001b[1;33m)\u001b[0m \u001b[1;32mis\u001b[0m \u001b[1;32mnot\u001b[0m \u001b[1;32mNone\u001b[0m\u001b[1;33m:\u001b[0m\u001b[1;33m\u001b[0m\u001b[1;33m\u001b[0m\u001b[0m\n",
      "\u001b[1;32m~\\Anaconda3\\lib\\site-packages\\matplotlib\\axes\\_base.py\u001b[0m in \u001b[0;36mdraw\u001b[1;34m(self, renderer, inframe)\u001b[0m\n\u001b[0;32m   2645\u001b[0m             \u001b[0mrenderer\u001b[0m\u001b[1;33m.\u001b[0m\u001b[0mstop_rasterizing\u001b[0m\u001b[1;33m(\u001b[0m\u001b[1;33m)\u001b[0m\u001b[1;33m\u001b[0m\u001b[1;33m\u001b[0m\u001b[0m\n\u001b[0;32m   2646\u001b[0m \u001b[1;33m\u001b[0m\u001b[0m\n\u001b[1;32m-> 2647\u001b[1;33m         \u001b[0mmimage\u001b[0m\u001b[1;33m.\u001b[0m\u001b[0m_draw_list_compositing_images\u001b[0m\u001b[1;33m(\u001b[0m\u001b[0mrenderer\u001b[0m\u001b[1;33m,\u001b[0m \u001b[0mself\u001b[0m\u001b[1;33m,\u001b[0m \u001b[0martists\u001b[0m\u001b[1;33m)\u001b[0m\u001b[1;33m\u001b[0m\u001b[1;33m\u001b[0m\u001b[0m\n\u001b[0m\u001b[0;32m   2648\u001b[0m \u001b[1;33m\u001b[0m\u001b[0m\n\u001b[0;32m   2649\u001b[0m         \u001b[0mrenderer\u001b[0m\u001b[1;33m.\u001b[0m\u001b[0mclose_group\u001b[0m\u001b[1;33m(\u001b[0m\u001b[1;34m'axes'\u001b[0m\u001b[1;33m)\u001b[0m\u001b[1;33m\u001b[0m\u001b[1;33m\u001b[0m\u001b[0m\n",
      "\u001b[1;32m~\\Anaconda3\\lib\\site-packages\\matplotlib\\image.py\u001b[0m in \u001b[0;36m_draw_list_compositing_images\u001b[1;34m(renderer, parent, artists, suppress_composite)\u001b[0m\n\u001b[0;32m    133\u001b[0m     \u001b[1;32mif\u001b[0m \u001b[0mnot_composite\u001b[0m \u001b[1;32mor\u001b[0m \u001b[1;32mnot\u001b[0m \u001b[0mhas_images\u001b[0m\u001b[1;33m:\u001b[0m\u001b[1;33m\u001b[0m\u001b[1;33m\u001b[0m\u001b[0m\n\u001b[0;32m    134\u001b[0m         \u001b[1;32mfor\u001b[0m \u001b[0ma\u001b[0m \u001b[1;32min\u001b[0m \u001b[0martists\u001b[0m\u001b[1;33m:\u001b[0m\u001b[1;33m\u001b[0m\u001b[1;33m\u001b[0m\u001b[0m\n\u001b[1;32m--> 135\u001b[1;33m             \u001b[0ma\u001b[0m\u001b[1;33m.\u001b[0m\u001b[0mdraw\u001b[0m\u001b[1;33m(\u001b[0m\u001b[0mrenderer\u001b[0m\u001b[1;33m)\u001b[0m\u001b[1;33m\u001b[0m\u001b[1;33m\u001b[0m\u001b[0m\n\u001b[0m\u001b[0;32m    136\u001b[0m     \u001b[1;32melse\u001b[0m\u001b[1;33m:\u001b[0m\u001b[1;33m\u001b[0m\u001b[1;33m\u001b[0m\u001b[0m\n\u001b[0;32m    137\u001b[0m         \u001b[1;31m# Composite any adjacent images together\u001b[0m\u001b[1;33m\u001b[0m\u001b[1;33m\u001b[0m\u001b[1;33m\u001b[0m\u001b[0m\n",
      "\u001b[1;32m~\\Anaconda3\\lib\\site-packages\\matplotlib\\artist.py\u001b[0m in \u001b[0;36mdraw_wrapper\u001b[1;34m(artist, renderer, *args, **kwargs)\u001b[0m\n\u001b[0;32m     36\u001b[0m                 \u001b[0mrenderer\u001b[0m\u001b[1;33m.\u001b[0m\u001b[0mstart_filter\u001b[0m\u001b[1;33m(\u001b[0m\u001b[1;33m)\u001b[0m\u001b[1;33m\u001b[0m\u001b[1;33m\u001b[0m\u001b[0m\n\u001b[0;32m     37\u001b[0m \u001b[1;33m\u001b[0m\u001b[0m\n\u001b[1;32m---> 38\u001b[1;33m             \u001b[1;32mreturn\u001b[0m \u001b[0mdraw\u001b[0m\u001b[1;33m(\u001b[0m\u001b[0martist\u001b[0m\u001b[1;33m,\u001b[0m \u001b[0mrenderer\u001b[0m\u001b[1;33m,\u001b[0m \u001b[1;33m*\u001b[0m\u001b[0margs\u001b[0m\u001b[1;33m,\u001b[0m \u001b[1;33m**\u001b[0m\u001b[0mkwargs\u001b[0m\u001b[1;33m)\u001b[0m\u001b[1;33m\u001b[0m\u001b[1;33m\u001b[0m\u001b[0m\n\u001b[0m\u001b[0;32m     39\u001b[0m         \u001b[1;32mfinally\u001b[0m\u001b[1;33m:\u001b[0m\u001b[1;33m\u001b[0m\u001b[1;33m\u001b[0m\u001b[0m\n\u001b[0;32m     40\u001b[0m             \u001b[1;32mif\u001b[0m \u001b[0martist\u001b[0m\u001b[1;33m.\u001b[0m\u001b[0mget_agg_filter\u001b[0m\u001b[1;33m(\u001b[0m\u001b[1;33m)\u001b[0m \u001b[1;32mis\u001b[0m \u001b[1;32mnot\u001b[0m \u001b[1;32mNone\u001b[0m\u001b[1;33m:\u001b[0m\u001b[1;33m\u001b[0m\u001b[1;33m\u001b[0m\u001b[0m\n",
      "\u001b[1;32m~\\Anaconda3\\lib\\site-packages\\matplotlib\\legend.py\u001b[0m in \u001b[0;36mdraw\u001b[1;34m(self, renderer)\u001b[0m\n\u001b[0;32m    656\u001b[0m         \u001b[1;31m# update the location and size of the legend. This needs to\u001b[0m\u001b[1;33m\u001b[0m\u001b[1;33m\u001b[0m\u001b[1;33m\u001b[0m\u001b[0m\n\u001b[0;32m    657\u001b[0m         \u001b[1;31m# be done in any case to clip the figure right.\u001b[0m\u001b[1;33m\u001b[0m\u001b[1;33m\u001b[0m\u001b[1;33m\u001b[0m\u001b[0m\n\u001b[1;32m--> 658\u001b[1;33m         \u001b[0mbbox\u001b[0m \u001b[1;33m=\u001b[0m \u001b[0mself\u001b[0m\u001b[1;33m.\u001b[0m\u001b[0m_legend_box\u001b[0m\u001b[1;33m.\u001b[0m\u001b[0mget_window_extent\u001b[0m\u001b[1;33m(\u001b[0m\u001b[0mrenderer\u001b[0m\u001b[1;33m)\u001b[0m\u001b[1;33m\u001b[0m\u001b[1;33m\u001b[0m\u001b[0m\n\u001b[0m\u001b[0;32m    659\u001b[0m         self.legendPatch.set_bounds(bbox.x0, bbox.y0,\n\u001b[0;32m    660\u001b[0m                                     bbox.width, bbox.height)\n",
      "\u001b[1;32m~\\Anaconda3\\lib\\site-packages\\matplotlib\\offsetbox.py\u001b[0m in \u001b[0;36mget_window_extent\u001b[1;34m(self, renderer)\u001b[0m\n\u001b[0;32m    242\u001b[0m         '''\n\u001b[0;32m    243\u001b[0m         \u001b[0mw\u001b[0m\u001b[1;33m,\u001b[0m \u001b[0mh\u001b[0m\u001b[1;33m,\u001b[0m \u001b[0mxd\u001b[0m\u001b[1;33m,\u001b[0m \u001b[0myd\u001b[0m\u001b[1;33m,\u001b[0m \u001b[0moffsets\u001b[0m \u001b[1;33m=\u001b[0m \u001b[0mself\u001b[0m\u001b[1;33m.\u001b[0m\u001b[0mget_extent_offsets\u001b[0m\u001b[1;33m(\u001b[0m\u001b[0mrenderer\u001b[0m\u001b[1;33m)\u001b[0m\u001b[1;33m\u001b[0m\u001b[1;33m\u001b[0m\u001b[0m\n\u001b[1;32m--> 244\u001b[1;33m         \u001b[0mpx\u001b[0m\u001b[1;33m,\u001b[0m \u001b[0mpy\u001b[0m \u001b[1;33m=\u001b[0m \u001b[0mself\u001b[0m\u001b[1;33m.\u001b[0m\u001b[0mget_offset\u001b[0m\u001b[1;33m(\u001b[0m\u001b[0mw\u001b[0m\u001b[1;33m,\u001b[0m \u001b[0mh\u001b[0m\u001b[1;33m,\u001b[0m \u001b[0mxd\u001b[0m\u001b[1;33m,\u001b[0m \u001b[0myd\u001b[0m\u001b[1;33m,\u001b[0m \u001b[0mrenderer\u001b[0m\u001b[1;33m)\u001b[0m\u001b[1;33m\u001b[0m\u001b[1;33m\u001b[0m\u001b[0m\n\u001b[0m\u001b[0;32m    245\u001b[0m         \u001b[1;32mreturn\u001b[0m \u001b[0mmtransforms\u001b[0m\u001b[1;33m.\u001b[0m\u001b[0mBbox\u001b[0m\u001b[1;33m.\u001b[0m\u001b[0mfrom_bounds\u001b[0m\u001b[1;33m(\u001b[0m\u001b[0mpx\u001b[0m \u001b[1;33m-\u001b[0m \u001b[0mxd\u001b[0m\u001b[1;33m,\u001b[0m \u001b[0mpy\u001b[0m \u001b[1;33m-\u001b[0m \u001b[0myd\u001b[0m\u001b[1;33m,\u001b[0m \u001b[0mw\u001b[0m\u001b[1;33m,\u001b[0m \u001b[0mh\u001b[0m\u001b[1;33m)\u001b[0m\u001b[1;33m\u001b[0m\u001b[1;33m\u001b[0m\u001b[0m\n\u001b[0;32m    246\u001b[0m \u001b[1;33m\u001b[0m\u001b[0m\n",
      "\u001b[1;32m~\\Anaconda3\\lib\\site-packages\\matplotlib\\offsetbox.py\u001b[0m in \u001b[0;36mget_offset\u001b[1;34m(self, width, height, xdescent, ydescent, renderer)\u001b[0m\n\u001b[0;32m    194\u001b[0m         \"\"\"\n\u001b[0;32m    195\u001b[0m         return (self._offset(width, height, xdescent, ydescent, renderer)\n\u001b[1;32m--> 196\u001b[1;33m                 \u001b[1;32mif\u001b[0m \u001b[0mcallable\u001b[0m\u001b[1;33m(\u001b[0m\u001b[0mself\u001b[0m\u001b[1;33m.\u001b[0m\u001b[0m_offset\u001b[0m\u001b[1;33m)\u001b[0m\u001b[1;33m\u001b[0m\u001b[1;33m\u001b[0m\u001b[0m\n\u001b[0m\u001b[0;32m    197\u001b[0m                 else self._offset)\n\u001b[0;32m    198\u001b[0m \u001b[1;33m\u001b[0m\u001b[0m\n",
      "\u001b[1;32m~\\Anaconda3\\lib\\site-packages\\matplotlib\\legend.py\u001b[0m in \u001b[0;36m_findoffset\u001b[1;34m(self, width, height, xdescent, ydescent, renderer)\u001b[0m\n\u001b[0;32m    625\u001b[0m \u001b[1;33m\u001b[0m\u001b[0m\n\u001b[0;32m    626\u001b[0m         \u001b[1;32mif\u001b[0m \u001b[0mself\u001b[0m\u001b[1;33m.\u001b[0m\u001b[0m_loc\u001b[0m \u001b[1;33m==\u001b[0m \u001b[1;36m0\u001b[0m\u001b[1;33m:\u001b[0m  \u001b[1;31m# \"best\".\u001b[0m\u001b[1;33m\u001b[0m\u001b[1;33m\u001b[0m\u001b[0m\n\u001b[1;32m--> 627\u001b[1;33m             \u001b[0mx\u001b[0m\u001b[1;33m,\u001b[0m \u001b[0my\u001b[0m \u001b[1;33m=\u001b[0m \u001b[0mself\u001b[0m\u001b[1;33m.\u001b[0m\u001b[0m_find_best_position\u001b[0m\u001b[1;33m(\u001b[0m\u001b[0mwidth\u001b[0m\u001b[1;33m,\u001b[0m \u001b[0mheight\u001b[0m\u001b[1;33m,\u001b[0m \u001b[0mrenderer\u001b[0m\u001b[1;33m)\u001b[0m\u001b[1;33m\u001b[0m\u001b[1;33m\u001b[0m\u001b[0m\n\u001b[0m\u001b[0;32m    628\u001b[0m         \u001b[1;32melif\u001b[0m \u001b[0mself\u001b[0m\u001b[1;33m.\u001b[0m\u001b[0m_loc\u001b[0m \u001b[1;32min\u001b[0m \u001b[0mLegend\u001b[0m\u001b[1;33m.\u001b[0m\u001b[0mcodes\u001b[0m\u001b[1;33m.\u001b[0m\u001b[0mvalues\u001b[0m\u001b[1;33m(\u001b[0m\u001b[1;33m)\u001b[0m\u001b[1;33m:\u001b[0m  \u001b[1;31m# Fixed location.\u001b[0m\u001b[1;33m\u001b[0m\u001b[1;33m\u001b[0m\u001b[0m\n\u001b[0;32m    629\u001b[0m             \u001b[0mbbox\u001b[0m \u001b[1;33m=\u001b[0m \u001b[0mBbox\u001b[0m\u001b[1;33m.\u001b[0m\u001b[0mfrom_bounds\u001b[0m\u001b[1;33m(\u001b[0m\u001b[1;36m0\u001b[0m\u001b[1;33m,\u001b[0m \u001b[1;36m0\u001b[0m\u001b[1;33m,\u001b[0m \u001b[0mwidth\u001b[0m\u001b[1;33m,\u001b[0m \u001b[0mheight\u001b[0m\u001b[1;33m)\u001b[0m\u001b[1;33m\u001b[0m\u001b[1;33m\u001b[0m\u001b[0m\n",
      "\u001b[1;32m~\\Anaconda3\\lib\\site-packages\\matplotlib\\legend.py\u001b[0m in \u001b[0;36m_find_best_position\u001b[1;34m(self, width, height, renderer, consider)\u001b[0m\n\u001b[0;32m   1124\u001b[0m         \u001b[1;32massert\u001b[0m \u001b[0mself\u001b[0m\u001b[1;33m.\u001b[0m\u001b[0misaxes\u001b[0m\u001b[1;33m\u001b[0m\u001b[1;33m\u001b[0m\u001b[0m\n\u001b[0;32m   1125\u001b[0m \u001b[1;33m\u001b[0m\u001b[0m\n\u001b[1;32m-> 1126\u001b[1;33m         \u001b[0mverts\u001b[0m\u001b[1;33m,\u001b[0m \u001b[0mbboxes\u001b[0m\u001b[1;33m,\u001b[0m \u001b[0mlines\u001b[0m\u001b[1;33m,\u001b[0m \u001b[0moffsets\u001b[0m \u001b[1;33m=\u001b[0m \u001b[0mself\u001b[0m\u001b[1;33m.\u001b[0m\u001b[0m_auto_legend_data\u001b[0m\u001b[1;33m(\u001b[0m\u001b[1;33m)\u001b[0m\u001b[1;33m\u001b[0m\u001b[1;33m\u001b[0m\u001b[0m\n\u001b[0m\u001b[0;32m   1127\u001b[0m         \u001b[1;32mif\u001b[0m \u001b[0mself\u001b[0m\u001b[1;33m.\u001b[0m\u001b[0m_loc_used_default\u001b[0m \u001b[1;32mand\u001b[0m \u001b[0mverts\u001b[0m\u001b[1;33m.\u001b[0m\u001b[0mshape\u001b[0m\u001b[1;33m[\u001b[0m\u001b[1;36m0\u001b[0m\u001b[1;33m]\u001b[0m \u001b[1;33m>\u001b[0m \u001b[1;36m200000\u001b[0m\u001b[1;33m:\u001b[0m\u001b[1;33m\u001b[0m\u001b[1;33m\u001b[0m\u001b[0m\n\u001b[0;32m   1128\u001b[0m             \u001b[1;31m# this size results in a 3+ second render time on a good machine\u001b[0m\u001b[1;33m\u001b[0m\u001b[1;33m\u001b[0m\u001b[1;33m\u001b[0m\u001b[0m\n",
      "\u001b[1;32m~\\Anaconda3\\lib\\site-packages\\matplotlib\\legend.py\u001b[0m in \u001b[0;36m_auto_legend_data\u001b[1;34m(self)\u001b[0m\n\u001b[0;32m    918\u001b[0m             \u001b[1;32mif\u001b[0m \u001b[0misinstance\u001b[0m\u001b[1;33m(\u001b[0m\u001b[0mhandle\u001b[0m\u001b[1;33m,\u001b[0m \u001b[0mRectangle\u001b[0m\u001b[1;33m)\u001b[0m\u001b[1;33m:\u001b[0m\u001b[1;33m\u001b[0m\u001b[1;33m\u001b[0m\u001b[0m\n\u001b[0;32m    919\u001b[0m                 \u001b[0mtransform\u001b[0m \u001b[1;33m=\u001b[0m \u001b[0mhandle\u001b[0m\u001b[1;33m.\u001b[0m\u001b[0mget_data_transform\u001b[0m\u001b[1;33m(\u001b[0m\u001b[1;33m)\u001b[0m\u001b[1;33m\u001b[0m\u001b[1;33m\u001b[0m\u001b[0m\n\u001b[1;32m--> 920\u001b[1;33m                 \u001b[0mbboxes\u001b[0m\u001b[1;33m.\u001b[0m\u001b[0mappend\u001b[0m\u001b[1;33m(\u001b[0m\u001b[0mhandle\u001b[0m\u001b[1;33m.\u001b[0m\u001b[0mget_bbox\u001b[0m\u001b[1;33m(\u001b[0m\u001b[1;33m)\u001b[0m\u001b[1;33m.\u001b[0m\u001b[0mtransformed\u001b[0m\u001b[1;33m(\u001b[0m\u001b[0mtransform\u001b[0m\u001b[1;33m)\u001b[0m\u001b[1;33m)\u001b[0m\u001b[1;33m\u001b[0m\u001b[1;33m\u001b[0m\u001b[0m\n\u001b[0m\u001b[0;32m    921\u001b[0m             \u001b[1;32melse\u001b[0m\u001b[1;33m:\u001b[0m\u001b[1;33m\u001b[0m\u001b[1;33m\u001b[0m\u001b[0m\n\u001b[0;32m    922\u001b[0m                 \u001b[0mtransform\u001b[0m \u001b[1;33m=\u001b[0m \u001b[0mhandle\u001b[0m\u001b[1;33m.\u001b[0m\u001b[0mget_transform\u001b[0m\u001b[1;33m(\u001b[0m\u001b[1;33m)\u001b[0m\u001b[1;33m\u001b[0m\u001b[1;33m\u001b[0m\u001b[0m\n",
      "\u001b[1;32m~\\Anaconda3\\lib\\site-packages\\matplotlib\\transforms.py\u001b[0m in \u001b[0;36mtransformed\u001b[1;34m(self, transform)\u001b[0m\n\u001b[0;32m    512\u001b[0m         \u001b[0mpts\u001b[0m \u001b[1;33m=\u001b[0m \u001b[0mself\u001b[0m\u001b[1;33m.\u001b[0m\u001b[0mget_points\u001b[0m\u001b[1;33m(\u001b[0m\u001b[1;33m)\u001b[0m\u001b[1;33m\u001b[0m\u001b[1;33m\u001b[0m\u001b[0m\n\u001b[0;32m    513\u001b[0m         ll, ul, lr = transform.transform(np.array([pts[0],\n\u001b[1;32m--> 514\u001b[1;33m             [pts[0, 0], pts[1, 1]], [pts[1, 0], pts[0, 1]]]))\n\u001b[0m\u001b[0;32m    515\u001b[0m         \u001b[1;32mreturn\u001b[0m \u001b[0mBbox\u001b[0m\u001b[1;33m(\u001b[0m\u001b[1;33m[\u001b[0m\u001b[0mll\u001b[0m\u001b[1;33m,\u001b[0m \u001b[1;33m[\u001b[0m\u001b[0mlr\u001b[0m\u001b[1;33m[\u001b[0m\u001b[1;36m0\u001b[0m\u001b[1;33m]\u001b[0m\u001b[1;33m,\u001b[0m \u001b[0mul\u001b[0m\u001b[1;33m[\u001b[0m\u001b[1;36m1\u001b[0m\u001b[1;33m]\u001b[0m\u001b[1;33m]\u001b[0m\u001b[1;33m]\u001b[0m\u001b[1;33m)\u001b[0m\u001b[1;33m\u001b[0m\u001b[1;33m\u001b[0m\u001b[0m\n\u001b[0;32m    516\u001b[0m \u001b[1;33m\u001b[0m\u001b[0m\n",
      "\u001b[1;31mKeyboardInterrupt\u001b[0m: "
     ]
    },
    {
     "data": {
      "image/png": "[encoded data removed]",
      "text/plain": [
       "<Figure size 432x288 with 1 Axes>"
      ]
     },
     "metadata": {
      "needs_background": "light"
     },
     "output_type": "display_data"
    }
   ],
   "source": [
    "siata_pivote_pm10.plot(kind='bar')"
   ]
  },
  {
   "cell_type": "code",
   "execution_count": null,
   "metadata": {},
   "outputs": [],
   "source": []
  },
  {
   "cell_type": "code",
   "execution_count": 109,
   "metadata": {},
   "outputs": [
    {
     "data": {
      "text/plain": [
       "<Figure size 7200x43200 with 0 Axes>"
      ]
     },
     "execution_count": 109,
     "metadata": {},
     "output_type": "execute_result"
    },
    {
     "data": {
      "image/png": "[encoded data removed]",
      "text/plain": [
       "<Figure size 432x288 with 1 Axes>"
      ]
     },
     "metadata": {
      "needs_background": "light"
     },
     "output_type": "display_data"
    },
    {
     "data": {
      "text/plain": [
       "<Figure size 7200x43200 with 0 Axes>"
      ]
     },
     "metadata": {},
     "output_type": "display_data"
    }
   ],
   "source": [
    "siata_pivote_no.plot(kind='bar')\n",
    "plt.xlabel('fechas')\n",
    "plt.ylabel('concentraciond de NOX')\n",
    "plt.figure(figsize=(100,600))"
   ]
  },
  {
   "cell_type": "code",
   "execution_count": 110,
   "metadata": {},
   "outputs": [
    {
     "data": {
      "text/plain": [
       "Text(0, 0.5, 'concentraciond de NOX')"
      ]
     },
     "execution_count": 110,
     "metadata": {},
     "output_type": "execute_result"
    },
    {
     "data": {
      "image/png": "[encoded data removed]",
      "text/plain": [
       "<Figure size 432x288 with 1 Axes>"
      ]
     },
     "metadata": {
      "needs_background": "light"
     },
     "output_type": "display_data"
    }
   ],
   "source": [
    "siata_pivote_no2.plot(kind='bar')\n",
    "\n",
    "plt.xlabel('fechas')\n",
    "plt.ylabel('concentraciond de NOX')"
   ]
  },
  {
   "cell_type": "code",
   "execution_count": 111,
   "metadata": {},
   "outputs": [
    {
     "data": {
      "text/plain": [
       "Text(0, 0.5, 'concentraciond de NOX')"
      ]
     },
     "execution_count": 111,
     "metadata": {},
     "output_type": "execute_result"
    },
    {
     "data": {
      "image/png": "[encoded data removed]",
      "text/plain": [
       "<Figure size 432x288 with 1 Axes>"
      ]
     },
     "metadata": {
      "needs_background": "light"
     },
     "output_type": "display_data"
    }
   ],
   "source": [
    "siata_pivote_NOX.plot(kind='bar')\n",
    "\n",
    "plt.xlabel('fechas')\n",
    "plt.ylabel('concentraciond de NOX')"
   ]
  },
  {
   "cell_type": "code",
   "execution_count": 112,
   "metadata": {},
   "outputs": [
    {
     "data": {
      "text/plain": [
       "(array([  9.,   0.,   0.,   0.,   0.,   0.,   0.,   0.,   0., 735.]),\n",
       " array([-9999.    , -8978.6503, -7958.3006, -6937.9509, -5917.6012,\n",
       "        -4897.2515, -3876.9018, -2856.5521, -1836.2024,  -815.8527,\n",
       "          204.497 ]),\n",
       " <a list of 10 Patch objects>)"
      ]
     },
     "execution_count": 112,
     "metadata": {},
     "output_type": "execute_result"
    },
    {
     "data": {
      "image/png": "[encoded data removed]",
      "text/plain": [
       "<Figure size 432x288 with 1 Axes>"
      ]
     },
     "metadata": {
      "needs_background": "light"
     },
     "output_type": "display_data"
    }
   ],
   "source": [
    "num_bins =10\n",
    "plt.hist(siata['NOX'],num_bins)"
   ]
  },
  {
   "cell_type": "code",
   "execution_count": 113,
   "metadata": {},
   "outputs": [
    {
     "data": {
      "text/plain": [
       "(array([  9.,   0.,   0.,   0.,   0.,   0.,   0.,   0.,   0., 735.]),\n",
       " array([-9999.    , -8978.6503, -7958.3006, -6937.9509, -5917.6012,\n",
       "        -4897.2515, -3876.9018, -2856.5521, -1836.2024,  -815.8527,\n",
       "          204.497 ]),\n",
       " <a list of 10 Patch objects>)"
      ]
     },
     "execution_count": 113,
     "metadata": {},
     "output_type": "execute_result"
    },
    {
     "data": {
      "image/png": "[encoded data removed]",
      "text/plain": [
       "<Figure size 432x288 with 1 Axes>"
      ]
     },
     "metadata": {
      "needs_background": "light"
     },
     "output_type": "display_data"
    }
   ],
   "source": [
    "num_bins =10\n",
    "plt.hist(siata['NOX'],num_bins)"
   ]
  },
  {
   "cell_type": "code",
   "execution_count": 114,
   "metadata": {},
   "outputs": [
    {
     "data": {
      "text/plain": [
       "(array([  9.,   0.,   0.,   0.,   0.,   0.,   0.,   0.,   0., 735.]),\n",
       " array([-9999.    , -8993.6616, -7988.3232, -6982.9848, -5977.6464,\n",
       "        -4972.308 , -3966.9696, -2961.6312, -1956.2928,  -950.9544,\n",
       "           54.384 ]),\n",
       " <a list of 10 Patch objects>)"
      ]
     },
     "execution_count": 114,
     "metadata": {},
     "output_type": "execute_result"
    },
    {
     "data": {
      "image/png": "[encoded data removed]",
      "text/plain": [
       "<Figure size 432x288 with 1 Axes>"
      ]
     },
     "metadata": {
      "needs_background": "light"
     },
     "output_type": "display_data"
    }
   ],
   "source": [
    "num_bins =10\n",
    "plt.hist(siata['no2'],num_bins)"
   ]
  },
  {
   "cell_type": "code",
   "execution_count": 89,
   "metadata": {},
   "outputs": [
    {
     "data": {
      "text/html": [
       "<div>\n",
       "<style scoped>\n",
       "    .dataframe tbody tr th:only-of-type {\n",
       "        vertical-align: middle;\n",
       "    }\n",
       "\n",
       "    .dataframe tbody tr th {\n",
       "        vertical-align: top;\n",
       "    }\n",
       "\n",
       "    .dataframe thead th {\n",
       "        text-align: right;\n",
       "    }\n",
       "</style>\n",
       "<table border=\"1\" class=\"dataframe\">\n",
       "  <thead>\n",
       "    <tr style=\"text-align: right;\">\n",
       "      <th></th>\n",
       "      <th>PM25</th>\n",
       "      <th>calidad_pm25</th>\n",
       "      <th>pm10</th>\n",
       "      <th>calidad_pm10</th>\n",
       "      <th>pm1</th>\n",
       "      <th>calidad_pm1</th>\n",
       "      <th>no</th>\n",
       "      <th>calidad_no</th>\n",
       "      <th>no2</th>\n",
       "      <th>calidad_no2</th>\n",
       "      <th>...</th>\n",
       "      <th>p_ssr</th>\n",
       "      <th>calidad_p_ssr</th>\n",
       "      <th>pliquida_ssr</th>\n",
       "      <th>calidad_pliquida_ssr</th>\n",
       "      <th>rglobal_ssr</th>\n",
       "      <th>calidad_rglobal_ssr</th>\n",
       "      <th>taire10_ssr</th>\n",
       "      <th>calidad_taire10_ssr</th>\n",
       "      <th>vviento_ssr</th>\n",
       "      <th>calidad_vviento_ssr</th>\n",
       "    </tr>\n",
       "  </thead>\n",
       "  <tbody>\n",
       "    <tr>\n",
       "      <td>0</td>\n",
       "      <td>-9999.0</td>\n",
       "      <td>1.0</td>\n",
       "      <td>63.0</td>\n",
       "      <td>1.0</td>\n",
       "      <td>-9999.0</td>\n",
       "      <td>1.0</td>\n",
       "      <td>95.0057</td>\n",
       "      <td>1.0</td>\n",
       "      <td>15.85690</td>\n",
       "      <td>1.0</td>\n",
       "      <td>...</td>\n",
       "      <td>-9999.0</td>\n",
       "      <td>1.0</td>\n",
       "      <td>-9999.0</td>\n",
       "      <td>1.0</td>\n",
       "      <td>-9999.0</td>\n",
       "      <td>1.0</td>\n",
       "      <td>-9999.0</td>\n",
       "      <td>1.0</td>\n",
       "      <td>-9999.0</td>\n",
       "      <td>1.0</td>\n",
       "    </tr>\n",
       "    <tr>\n",
       "      <td>1</td>\n",
       "      <td>-9999.0</td>\n",
       "      <td>1.0</td>\n",
       "      <td>48.0</td>\n",
       "      <td>1.0</td>\n",
       "      <td>-9999.0</td>\n",
       "      <td>1.0</td>\n",
       "      <td>48.0926</td>\n",
       "      <td>1.0</td>\n",
       "      <td>13.47360</td>\n",
       "      <td>1.0</td>\n",
       "      <td>...</td>\n",
       "      <td>-9999.0</td>\n",
       "      <td>1.0</td>\n",
       "      <td>-9999.0</td>\n",
       "      <td>1.0</td>\n",
       "      <td>-9999.0</td>\n",
       "      <td>1.0</td>\n",
       "      <td>-9999.0</td>\n",
       "      <td>1.0</td>\n",
       "      <td>-9999.0</td>\n",
       "      <td>1.0</td>\n",
       "    </tr>\n",
       "    <tr>\n",
       "      <td>2</td>\n",
       "      <td>-9999.0</td>\n",
       "      <td>1.0</td>\n",
       "      <td>33.0</td>\n",
       "      <td>1.0</td>\n",
       "      <td>-9999.0</td>\n",
       "      <td>1.0</td>\n",
       "      <td>34.7578</td>\n",
       "      <td>1.0</td>\n",
       "      <td>10.39640</td>\n",
       "      <td>1.0</td>\n",
       "      <td>...</td>\n",
       "      <td>-9999.0</td>\n",
       "      <td>1.0</td>\n",
       "      <td>-9999.0</td>\n",
       "      <td>1.0</td>\n",
       "      <td>-9999.0</td>\n",
       "      <td>1.0</td>\n",
       "      <td>-9999.0</td>\n",
       "      <td>1.0</td>\n",
       "      <td>-9999.0</td>\n",
       "      <td>1.0</td>\n",
       "    </tr>\n",
       "    <tr>\n",
       "      <td>3</td>\n",
       "      <td>-9999.0</td>\n",
       "      <td>1.0</td>\n",
       "      <td>38.0</td>\n",
       "      <td>1.0</td>\n",
       "      <td>-9999.0</td>\n",
       "      <td>1.0</td>\n",
       "      <td>34.4426</td>\n",
       "      <td>1.0</td>\n",
       "      <td>9.58667</td>\n",
       "      <td>1.0</td>\n",
       "      <td>...</td>\n",
       "      <td>-9999.0</td>\n",
       "      <td>1.0</td>\n",
       "      <td>-9999.0</td>\n",
       "      <td>1.0</td>\n",
       "      <td>-9999.0</td>\n",
       "      <td>1.0</td>\n",
       "      <td>-9999.0</td>\n",
       "      <td>1.0</td>\n",
       "      <td>-9999.0</td>\n",
       "      <td>1.0</td>\n",
       "    </tr>\n",
       "    <tr>\n",
       "      <td>4</td>\n",
       "      <td>-9999.0</td>\n",
       "      <td>1.0</td>\n",
       "      <td>34.0</td>\n",
       "      <td>1.0</td>\n",
       "      <td>-9999.0</td>\n",
       "      <td>1.0</td>\n",
       "      <td>34.1442</td>\n",
       "      <td>1.0</td>\n",
       "      <td>7.60264</td>\n",
       "      <td>1.0</td>\n",
       "      <td>...</td>\n",
       "      <td>-9999.0</td>\n",
       "      <td>1.0</td>\n",
       "      <td>-9999.0</td>\n",
       "      <td>1.0</td>\n",
       "      <td>-9999.0</td>\n",
       "      <td>1.0</td>\n",
       "      <td>-9999.0</td>\n",
       "      <td>1.0</td>\n",
       "      <td>-9999.0</td>\n",
       "      <td>1.0</td>\n",
       "    </tr>\n",
       "  </tbody>\n",
       "</table>\n",
       "<p>5 rows × 34 columns</p>\n",
       "</div>"
      ],
      "text/plain": [
       "     PM25  calidad_pm25  pm10  calidad_pm10     pm1  calidad_pm1       no  \\\n",
       "0 -9999.0           1.0  63.0           1.0 -9999.0          1.0  95.0057   \n",
       "1 -9999.0           1.0  48.0           1.0 -9999.0          1.0  48.0926   \n",
       "2 -9999.0           1.0  33.0           1.0 -9999.0          1.0  34.7578   \n",
       "3 -9999.0           1.0  38.0           1.0 -9999.0          1.0  34.4426   \n",
       "4 -9999.0           1.0  34.0           1.0 -9999.0          1.0  34.1442   \n",
       "\n",
       "   calidad_no       no2  calidad_no2  ...   p_ssr  calidad_p_ssr  \\\n",
       "0         1.0  15.85690          1.0  ... -9999.0            1.0   \n",
       "1         1.0  13.47360          1.0  ... -9999.0            1.0   \n",
       "2         1.0  10.39640          1.0  ... -9999.0            1.0   \n",
       "3         1.0   9.58667          1.0  ... -9999.0            1.0   \n",
       "4         1.0   7.60264          1.0  ... -9999.0            1.0   \n",
       "\n",
       "   pliquida_ssr  calidad_pliquida_ssr  rglobal_ssr  calidad_rglobal_ssr  \\\n",
       "0       -9999.0                   1.0      -9999.0                  1.0   \n",
       "1       -9999.0                   1.0      -9999.0                  1.0   \n",
       "2       -9999.0                   1.0      -9999.0                  1.0   \n",
       "3       -9999.0                   1.0      -9999.0                  1.0   \n",
       "4       -9999.0                   1.0      -9999.0                  1.0   \n",
       "\n",
       "   taire10_ssr  calidad_taire10_ssr  vviento_ssr  calidad_vviento_ssr  \n",
       "0      -9999.0                  1.0      -9999.0                  1.0  \n",
       "1      -9999.0                  1.0      -9999.0                  1.0  \n",
       "2      -9999.0                  1.0      -9999.0                  1.0  \n",
       "3      -9999.0                  1.0      -9999.0                  1.0  \n",
       "4      -9999.0                  1.0      -9999.0                  1.0  \n",
       "\n",
       "[5 rows x 34 columns]"
      ]
     },
     "execution_count": 89,
     "metadata": {},
     "output_type": "execute_result"
    }
   ],
   "source": [
    "siata_num = siata.select_dtypes(include=('float64'))\n",
    "siata_num.head()"
   ]
  },
  {
   "cell_type": "code",
   "execution_count": 90,
   "metadata": {},
   "outputs": [
    {
     "data": {
      "text/plain": [
       "array([[<matplotlib.axes._subplots.AxesSubplot object at 0x0000020F9EFFC048>,\n",
       "        <matplotlib.axes._subplots.AxesSubplot object at 0x0000020FA06CDD88>,\n",
       "        <matplotlib.axes._subplots.AxesSubplot object at 0x0000020FA07CC588>,\n",
       "        <matplotlib.axes._subplots.AxesSubplot object at 0x0000020FA07E1F88>,\n",
       "        <matplotlib.axes._subplots.AxesSubplot object at 0x0000020FA07FB988>,\n",
       "        <matplotlib.axes._subplots.AxesSubplot object at 0x0000020FA0812388>],\n",
       "       [<matplotlib.axes._subplots.AxesSubplot object at 0x0000020FA0831D48>,\n",
       "        <matplotlib.axes._subplots.AxesSubplot object at 0x0000020FA0864808>,\n",
       "        <matplotlib.axes._subplots.AxesSubplot object at 0x0000020FA086E408>,\n",
       "        <matplotlib.axes._subplots.AxesSubplot object at 0x0000020FA08A7588>,\n",
       "        <matplotlib.axes._subplots.AxesSubplot object at 0x0000020FA090CB08>,\n",
       "        <matplotlib.axes._subplots.AxesSubplot object at 0x0000020FA0943B88>],\n",
       "       [<matplotlib.axes._subplots.AxesSubplot object at 0x0000020FA097BC88>,\n",
       "        <matplotlib.axes._subplots.AxesSubplot object at 0x0000020FA09B5DC8>,\n",
       "        <matplotlib.axes._subplots.AxesSubplot object at 0x0000020FA0C2EEC8>,\n",
       "        <matplotlib.axes._subplots.AxesSubplot object at 0x0000020FA0C65FC8>,\n",
       "        <matplotlib.axes._subplots.AxesSubplot object at 0x0000020FA0CA30C8>,\n",
       "        <matplotlib.axes._subplots.AxesSubplot object at 0x0000020FA0CDC1C8>],\n",
       "       [<matplotlib.axes._subplots.AxesSubplot object at 0x0000020FEB7B62C8>,\n",
       "        <matplotlib.axes._subplots.AxesSubplot object at 0x0000020FEB7ED408>,\n",
       "        <matplotlib.axes._subplots.AxesSubplot object at 0x0000020FEB826548>,\n",
       "        <matplotlib.axes._subplots.AxesSubplot object at 0x0000020FEB85F5C8>,\n",
       "        <matplotlib.axes._subplots.AxesSubplot object at 0x0000020FEB8976C8>,\n",
       "        <matplotlib.axes._subplots.AxesSubplot object at 0x0000020FEB8D0808>],\n",
       "       [<matplotlib.axes._subplots.AxesSubplot object at 0x0000020FEB90A908>,\n",
       "        <matplotlib.axes._subplots.AxesSubplot object at 0x0000020FEB943A08>,\n",
       "        <matplotlib.axes._subplots.AxesSubplot object at 0x0000020FEB97AB48>,\n",
       "        <matplotlib.axes._subplots.AxesSubplot object at 0x0000020FEB9B3BC8>,\n",
       "        <matplotlib.axes._subplots.AxesSubplot object at 0x0000020FEB9ECCC8>,\n",
       "        <matplotlib.axes._subplots.AxesSubplot object at 0x0000020FEBA24E08>],\n",
       "       [<matplotlib.axes._subplots.AxesSubplot object at 0x0000020FEBA5DF08>,\n",
       "        <matplotlib.axes._subplots.AxesSubplot object at 0x0000020FEBA9A048>,\n",
       "        <matplotlib.axes._subplots.AxesSubplot object at 0x0000020FEBAD4148>,\n",
       "        <matplotlib.axes._subplots.AxesSubplot object at 0x0000020FEBB0B248>,\n",
       "        <matplotlib.axes._subplots.AxesSubplot object at 0x0000020FEBB44348>,\n",
       "        <matplotlib.axes._subplots.AxesSubplot object at 0x0000020FEBB7E548>]],\n",
       "      dtype=object)"
      ]
     },
     "execution_count": 90,
     "metadata": {},
     "output_type": "execute_result"
    },
    {
     "data": {
      "image/png": "[encoded data removed]",
      "text/plain": [
       "<Figure size 432x288 with 36 Axes>"
      ]
     },
     "metadata": {
      "needs_background": "light"
     },
     "output_type": "display_data"
    }
   ],
   "source": [
    "siata_num.hist(bins=20)"
   ]
  },
  {
   "cell_type": "code",
   "execution_count": 91,
   "metadata": {},
   "outputs": [
    {
     "data": {
      "image/png": "[encoded data removed]",
      "text/plain": [
       "<Figure size 900x180 with 5 Axes>"
      ]
     },
     "metadata": {
      "needs_background": "light"
     },
     "output_type": "display_data"
    },
    {
     "data": {
      "image/png": "[encoded data removed]",
      "text/plain": [
       "<Figure size 900x180 with 5 Axes>"
      ]
     },
     "metadata": {
      "needs_background": "light"
     },
     "output_type": "display_data"
    },
    {
     "data": {
      "image/png": "[encoded data removed]",
      "text/plain": [
       "<Figure size 900x180 with 5 Axes>"
      ]
     },
     "metadata": {
      "needs_background": "light"
     },
     "output_type": "display_data"
    },
    {
     "data": {
      "image/png": "[encoded data removed]",
      "text/plain": [
       "<Figure size 900x180 with 5 Axes>"
      ]
     },
     "metadata": {
      "needs_background": "light"
     },
     "output_type": "display_data"
    },
    {
     "data": {
      "image/png": "[encoded data removed]",
      "text/plain": [
       "<Figure size 900x180 with 5 Axes>"
      ]
     },
     "metadata": {
      "needs_background": "light"
     },
     "output_type": "display_data"
    },
    {
     "data": {
      "image/png": "[encoded data removed]",
      "text/plain": [
       "<Figure size 900x180 with 5 Axes>"
      ]
     },
     "metadata": {
      "needs_background": "light"
     },
     "output_type": "display_data"
    },
    {
     "data": {
      "image/png": "[encoded data removed]",
      "text/plain": [
       "<Figure size 720x180 with 4 Axes>"
      ]
     },
     "metadata": {
      "needs_background": "light"
     },
     "output_type": "display_data"
    }
   ],
   "source": [
    "for i in range(0,len(siata_num.columns),5):\n",
    "    sns7.pairplot(siata, y_vars=['NOX'], x_vars=siata_num.columns[i:i+5])"
   ]
  },
  {
   "cell_type": "code",
   "execution_count": 119,
   "metadata": {},
   "outputs": [
    {
     "data": {
      "image/png": "[encoded data removed]",
      "text/plain": [
       "<Figure size 432x288 with 1 Axes>"
      ]
     },
     "metadata": {
      "needs_background": "light"
     },
     "output_type": "display_data"
    }
   ],
   "source": [
    "x=siata['NOX']\n",
    "y=siata['pm10']\n",
    "\n",
    "mymodel = py.poly1d(py.polyfit(x, y, 3))\n",
    "myline = py.linspace(1, 22, 100)\n",
    "\n",
    "plt.scatter(x, y)\n",
    "plt.plot(myline, mymodel(myline))\n",
    "plt.show()\n",
    "\n"
   ]
  },
  {
   "cell_type": "code",
   "execution_count": 122,
   "metadata": {},
   "outputs": [],
   "source": [
    "siata2=pd.read_csv('estacion_data_calidadaire_4_20170401_20170430.csv')\n"
   ]
  },
  {
   "cell_type": "code",
   "execution_count": 123,
   "metadata": {},
   "outputs": [
    {
     "data": {
      "text/html": [
       "<div>\n",
       "<style scoped>\n",
       "    .dataframe tbody tr th:only-of-type {\n",
       "        vertical-align: middle;\n",
       "    }\n",
       "\n",
       "    .dataframe tbody tr th {\n",
       "        vertical-align: top;\n",
       "    }\n",
       "\n",
       "    .dataframe thead th {\n",
       "        text-align: right;\n",
       "    }\n",
       "</style>\n",
       "<table border=\"1\" class=\"dataframe\">\n",
       "  <thead>\n",
       "    <tr style=\"text-align: right;\">\n",
       "      <th></th>\n",
       "      <th>Unnamed: 0</th>\n",
       "      <th>codigoSerial</th>\n",
       "      <th>pm25</th>\n",
       "      <th>calidad_pm25</th>\n",
       "      <th>pm10</th>\n",
       "      <th>calidad_pm10</th>\n",
       "      <th>pm1</th>\n",
       "      <th>calidad_pm1</th>\n",
       "      <th>no</th>\n",
       "      <th>calidad_no</th>\n",
       "      <th>...</th>\n",
       "      <th>p_ssr</th>\n",
       "      <th>calidad_p_ssr</th>\n",
       "      <th>pliquida_ssr</th>\n",
       "      <th>calidad_pliquida_ssr</th>\n",
       "      <th>rglobal_ssr</th>\n",
       "      <th>calidad_rglobal_ssr</th>\n",
       "      <th>taire10_ssr</th>\n",
       "      <th>calidad_taire10_ssr</th>\n",
       "      <th>vviento_ssr</th>\n",
       "      <th>calidad_vviento_ssr</th>\n",
       "    </tr>\n",
       "  </thead>\n",
       "  <tbody>\n",
       "    <tr>\n",
       "      <td>0</td>\n",
       "      <td>2017-04-01 00:00:00</td>\n",
       "      <td>4</td>\n",
       "      <td>-9999.0</td>\n",
       "      <td>1.0</td>\n",
       "      <td>21.0</td>\n",
       "      <td>1.0</td>\n",
       "      <td>-9999.0</td>\n",
       "      <td>1.0</td>\n",
       "      <td>8.86153</td>\n",
       "      <td>1.0</td>\n",
       "      <td>...</td>\n",
       "      <td>-9999.0</td>\n",
       "      <td>1.0</td>\n",
       "      <td>-9999.0</td>\n",
       "      <td>1.0</td>\n",
       "      <td>-9999.0</td>\n",
       "      <td>1.0</td>\n",
       "      <td>-9999.0</td>\n",
       "      <td>1.0</td>\n",
       "      <td>-9999.0</td>\n",
       "      <td>1.0</td>\n",
       "    </tr>\n",
       "    <tr>\n",
       "      <td>1</td>\n",
       "      <td>2017-04-01 01:00:00</td>\n",
       "      <td>4</td>\n",
       "      <td>-9999.0</td>\n",
       "      <td>1.0</td>\n",
       "      <td>24.0</td>\n",
       "      <td>1.0</td>\n",
       "      <td>-9999.0</td>\n",
       "      <td>1.0</td>\n",
       "      <td>5.52375</td>\n",
       "      <td>1.0</td>\n",
       "      <td>...</td>\n",
       "      <td>-9999.0</td>\n",
       "      <td>1.0</td>\n",
       "      <td>-9999.0</td>\n",
       "      <td>1.0</td>\n",
       "      <td>-9999.0</td>\n",
       "      <td>1.0</td>\n",
       "      <td>-9999.0</td>\n",
       "      <td>1.0</td>\n",
       "      <td>-9999.0</td>\n",
       "      <td>1.0</td>\n",
       "    </tr>\n",
       "    <tr>\n",
       "      <td>2</td>\n",
       "      <td>2017-04-01 02:00:00</td>\n",
       "      <td>4</td>\n",
       "      <td>-9999.0</td>\n",
       "      <td>1.0</td>\n",
       "      <td>14.0</td>\n",
       "      <td>1.0</td>\n",
       "      <td>-9999.0</td>\n",
       "      <td>1.0</td>\n",
       "      <td>2.97181</td>\n",
       "      <td>1.0</td>\n",
       "      <td>...</td>\n",
       "      <td>-9999.0</td>\n",
       "      <td>1.0</td>\n",
       "      <td>-9999.0</td>\n",
       "      <td>1.0</td>\n",
       "      <td>-9999.0</td>\n",
       "      <td>1.0</td>\n",
       "      <td>-9999.0</td>\n",
       "      <td>1.0</td>\n",
       "      <td>-9999.0</td>\n",
       "      <td>1.0</td>\n",
       "    </tr>\n",
       "    <tr>\n",
       "      <td>3</td>\n",
       "      <td>2017-04-01 03:00:00</td>\n",
       "      <td>4</td>\n",
       "      <td>-9999.0</td>\n",
       "      <td>1.0</td>\n",
       "      <td>27.0</td>\n",
       "      <td>1.0</td>\n",
       "      <td>-9999.0</td>\n",
       "      <td>1.0</td>\n",
       "      <td>4.81208</td>\n",
       "      <td>1.0</td>\n",
       "      <td>...</td>\n",
       "      <td>-9999.0</td>\n",
       "      <td>1.0</td>\n",
       "      <td>-9999.0</td>\n",
       "      <td>1.0</td>\n",
       "      <td>-9999.0</td>\n",
       "      <td>1.0</td>\n",
       "      <td>-9999.0</td>\n",
       "      <td>1.0</td>\n",
       "      <td>-9999.0</td>\n",
       "      <td>1.0</td>\n",
       "    </tr>\n",
       "    <tr>\n",
       "      <td>4</td>\n",
       "      <td>2017-04-01 04:00:00</td>\n",
       "      <td>4</td>\n",
       "      <td>-9999.0</td>\n",
       "      <td>1.0</td>\n",
       "      <td>10.0</td>\n",
       "      <td>1.0</td>\n",
       "      <td>-9999.0</td>\n",
       "      <td>1.0</td>\n",
       "      <td>5.23986</td>\n",
       "      <td>1.0</td>\n",
       "      <td>...</td>\n",
       "      <td>-9999.0</td>\n",
       "      <td>1.0</td>\n",
       "      <td>-9999.0</td>\n",
       "      <td>1.0</td>\n",
       "      <td>-9999.0</td>\n",
       "      <td>1.0</td>\n",
       "      <td>-9999.0</td>\n",
       "      <td>1.0</td>\n",
       "      <td>-9999.0</td>\n",
       "      <td>1.0</td>\n",
       "    </tr>\n",
       "  </tbody>\n",
       "</table>\n",
       "<p>5 rows × 36 columns</p>\n",
       "</div>"
      ],
      "text/plain": [
       "            Unnamed: 0  codigoSerial    pm25  calidad_pm25  pm10  \\\n",
       "0  2017-04-01 00:00:00             4 -9999.0           1.0  21.0   \n",
       "1  2017-04-01 01:00:00             4 -9999.0           1.0  24.0   \n",
       "2  2017-04-01 02:00:00             4 -9999.0           1.0  14.0   \n",
       "3  2017-04-01 03:00:00             4 -9999.0           1.0  27.0   \n",
       "4  2017-04-01 04:00:00             4 -9999.0           1.0  10.0   \n",
       "\n",
       "   calidad_pm10     pm1  calidad_pm1       no  calidad_no  ...   p_ssr  \\\n",
       "0           1.0 -9999.0          1.0  8.86153         1.0  ... -9999.0   \n",
       "1           1.0 -9999.0          1.0  5.52375         1.0  ... -9999.0   \n",
       "2           1.0 -9999.0          1.0  2.97181         1.0  ... -9999.0   \n",
       "3           1.0 -9999.0          1.0  4.81208         1.0  ... -9999.0   \n",
       "4           1.0 -9999.0          1.0  5.23986         1.0  ... -9999.0   \n",
       "\n",
       "   calidad_p_ssr  pliquida_ssr  calidad_pliquida_ssr  rglobal_ssr  \\\n",
       "0            1.0       -9999.0                   1.0      -9999.0   \n",
       "1            1.0       -9999.0                   1.0      -9999.0   \n",
       "2            1.0       -9999.0                   1.0      -9999.0   \n",
       "3            1.0       -9999.0                   1.0      -9999.0   \n",
       "4            1.0       -9999.0                   1.0      -9999.0   \n",
       "\n",
       "   calidad_rglobal_ssr  taire10_ssr  calidad_taire10_ssr  vviento_ssr  \\\n",
       "0                  1.0      -9999.0                  1.0      -9999.0   \n",
       "1                  1.0      -9999.0                  1.0      -9999.0   \n",
       "2                  1.0      -9999.0                  1.0      -9999.0   \n",
       "3                  1.0      -9999.0                  1.0      -9999.0   \n",
       "4                  1.0      -9999.0                  1.0      -9999.0   \n",
       "\n",
       "   calidad_vviento_ssr  \n",
       "0                  1.0  \n",
       "1                  1.0  \n",
       "2                  1.0  \n",
       "3                  1.0  \n",
       "4                  1.0  \n",
       "\n",
       "[5 rows x 36 columns]"
      ]
     },
     "execution_count": 123,
     "metadata": {},
     "output_type": "execute_result"
    }
   ],
   "source": [
    "siata2.head()"
   ]
  },
  {
   "cell_type": "code",
   "execution_count": 131,
   "metadata": {},
   "outputs": [
    {
     "ename": "ValueError",
     "evalue": "Expected 2D array, got 1D array instead:\narray=[ 1.11339e+02  6.19292e+01  4.52843e+01  4.41751e+01  4.19300e+01\n  4.93488e+01  9.48915e+01  1.27064e+02  1.03154e+02  1.12051e+02\n  7.16164e+01  6.54430e+01  3.35378e+01  2.21714e+01  1.67704e+01\n  1.47725e+01  1.88443e+01  2.46825e+01  4.20775e+01  5.95553e+01\n  8.35625e+01  1.01779e+02  9.97811e+01  8.45004e+01  6.51714e+01\n  7.79000e+01  7.62405e+01  5.75311e+01  3.94325e+01  4.69590e+01\n  6.43860e+01  9.77610e+01  1.23533e+02  8.77031e+01  5.14454e+01\n  2.24222e+01  2.28993e+01  2.35956e+01  1.77493e+01  1.89772e+01\n  1.97882e+01  2.18154e+01  2.32704e+01  2.87918e+01  2.77524e+01\n  2.94229e+01  3.45881e+01  2.97529e+01  3.43768e+01  3.23568e+01\n  3.05978e+01  2.72590e+01  3.97758e+01  4.56217e+01  8.33258e+01\n  6.66933e+01  4.49017e+01  3.38703e+01  4.33382e+01  2.89406e+01\n  2.81042e+01  2.11100e+01  1.89467e+01  1.93106e+01  1.94519e+01\n  1.93540e+01  2.63236e+01  2.88396e+01  2.80940e+01  2.98735e+01\n  2.92219e+01  1.95136e+01  1.86989e+01  1.77610e+01  1.25508e+01\n  1.22972e+01  2.05301e+01  3.32831e+01  4.73256e+01  6.79371e+01\n  9.35711e+01  4.57149e+01  2.15054e+01  1.87536e+01  1.58432e+01\n  1.52864e+01  1.25904e+01  1.49210e+01  1.85590e+01  2.41617e+01\n  2.35720e+01  2.37997e+01  2.57082e+01  2.31390e+01  2.51442e+01\n  1.75703e+01  1.44589e+01  1.71182e+01  2.25010e+01  2.50192e+01\n  2.44607e+01  2.36190e+01  2.11785e+01  1.91562e+01  3.38404e+01\n  3.47929e+01  3.23054e+01  2.81397e+01  2.98703e+01  2.41028e+01\n  2.07381e+01  1.90747e+01  2.20408e+01  2.20840e+01  2.33254e+01\n  2.48247e+01  2.38604e+01  2.31319e+01  2.42543e+01  1.88950e+01\n  1.84732e+01  1.67503e+01  1.52482e+01  1.94629e+01  2.30290e+01\n  3.29607e+01  5.01985e+01  1.06299e+02  1.24879e+02  9.02286e+01\n  7.70929e+01  7.27431e+01  4.33271e+01  3.59006e+01  3.06189e+01\n  2.23935e+01  2.37074e+01  2.78272e+01  3.31064e+01  3.28493e+01\n  2.73476e+01  2.16640e+01  2.07013e+01  2.28810e+01  2.25319e+01\n  2.95069e+01  2.59219e+01  3.04692e+01  2.96411e+01  3.43983e+01\n  4.73037e+01  9.08944e+01  7.00640e+01  5.99876e+01  3.33676e+01\n  2.99406e+01  3.32796e+01  3.05349e+01  2.30494e+01  2.38713e+01\n  4.66976e+01  4.49250e+01  3.51599e+01  3.88067e+01  4.29256e+01\n  3.92289e+01  3.16808e+01  3.22086e+01  3.20404e+01  2.78971e+01\n  2.87640e+01  3.14675e+01  3.09049e+01  3.19046e+01  4.84321e+01\n  5.49938e+01  7.43400e+01  8.06432e+01  6.13561e+01  8.16525e+01\n  4.55392e+01  8.59968e+01  8.22558e+01  6.86181e+01  7.32411e+01\n  7.93319e+01  9.06947e+01  1.57501e+02  1.21688e+02  6.77104e+01\n  5.10465e+01  4.86862e+01  3.50603e+01  3.35075e+01  4.89860e+01\n  3.88047e+01  3.72192e+01  4.13146e+01  7.24899e+01  1.14406e+02\n  1.06228e+02  1.01753e+02  1.06737e+02  6.37879e+01  2.60493e+01\n  1.69740e+01  1.28010e+01  1.86272e+01  2.42945e+01  3.76021e+01\n  4.99703e+01  3.93693e+01  5.44794e+01  3.59853e+01  5.45386e+01\n  6.47543e+01  5.09261e+01  5.49367e+01  4.87719e+01  4.42304e+01\n  4.92189e+01  5.15668e+01  6.35133e+01  1.04659e+02  9.63639e+01\n  7.30353e+01  8.52797e+01  5.38708e+01  4.16503e+01  4.59793e+01\n  4.21060e+01  7.43522e+01  7.63810e+01  9.83401e+01  1.37288e+02\n  1.88701e+02  2.04497e+02  1.72569e+02  1.37924e+02  1.54989e+02\n  1.42313e+02  1.24111e+02  9.66754e+01  9.60860e+01  1.01771e+02\n  1.13244e+02  1.26470e+02  1.42879e+02  1.34616e+02  9.17149e+01\n  6.93385e+01  7.25075e+01  3.69965e+01  2.06769e+01  2.23908e+01\n  2.05028e+01  3.89203e+01  4.33592e+01  5.05915e+01  4.02358e+01\n  6.40992e+01  6.15957e+01  5.66206e+01  8.62161e+01  8.12968e+01\n  6.78099e+01  5.54936e+01  4.48240e+01  5.35049e+01  6.25344e+01\n  6.58118e+01  8.16824e+01  9.03375e+01  7.17600e+01  5.92685e+01\n  5.23996e+01  3.98121e+01  4.11729e+01  2.60560e+01  2.66794e+01\n  2.94189e+01  2.92680e+01  4.90308e+01  5.38976e+01  3.54229e+01\n  3.32186e+01  3.57665e+01  2.68601e+01  2.29406e+01  2.10462e+01\n  2.36267e+01  2.21028e+01  2.41558e+01  4.10383e+01  6.42196e+01\n  1.33445e+02  9.01708e+01  6.17324e+01  6.76164e+01  5.38736e+01\n  4.60178e+01  3.22975e+01  2.62644e+01  3.89325e+01  7.34583e+01\n  7.23104e+01  9.12600e+01  1.31539e+02  6.22343e+01  6.55169e+01\n  8.46076e+01  1.02633e+02  8.50068e+01  8.88260e+01  7.59622e+01\n  4.49385e+01  4.92022e+01  4.83775e+01  7.87262e+01  1.42613e+02\n  1.33184e+02  8.45074e+01 -9.99900e+03 -9.99900e+03  2.17946e+01\n  2.32350e+01  2.43279e+01  2.83171e+01  2.77842e+01  3.49671e+01\n  5.49987e+01  1.06653e+02  9.98629e+01  1.14936e+02  1.13335e+02\n  1.04769e+02  8.67250e+01  5.74254e+01  2.91426e+01  2.79206e+01\n  2.79090e+01  3.48128e+01  5.05275e+01  7.51947e+01  9.95044e+01\n  8.16783e+01  5.45537e+01  4.14386e+01  4.38324e+01  3.19526e+01\n  2.91014e+01  3.41036e+01  2.73543e+01  3.58789e+01  4.03908e+01\n  6.07278e+01  6.57558e+01  7.69504e+01  9.73124e+01  1.38864e+02\n  1.12435e+02  4.43919e+01  3.61226e+01  3.29933e+01  3.35168e+01\n  3.94801e+01  6.20949e+01  8.96000e+01  9.20736e+01  9.43446e+01\n  6.79767e+01  3.45401e+01  2.78426e+01  2.09599e+01  1.74583e+01\n  1.83336e+01  1.53518e+01  2.00276e+01  3.30824e+01  3.17638e+01\n  2.74904e+01  2.58942e+01  2.76683e+01  2.44443e+01  1.36575e+01\n  1.25164e+01  1.90640e+01  9.06069e+00  1.29011e+01  1.44876e+01\n  6.38846e+01 -9.99900e+03 -9.99900e+03 -9.99900e+03 -9.99900e+03\n  1.38885e+01  8.93236e+00  2.00481e+01  1.82264e+01  1.25581e+01\n  1.50639e+01  2.18563e+01  2.59353e+01  4.25533e+01  9.77722e+01\n  1.14293e+02  1.00397e+02  3.71715e+01  2.36750e+01  1.56378e+01\n  1.20728e+01  1.12842e+01  2.27143e+01  3.51558e+01  4.28008e+01\n  5.55001e+01  6.33599e+01  3.80172e+01  3.02565e+01  2.60311e+01\n  2.52475e+01  2.30893e+01  2.58208e+01  2.07663e+01  2.15442e+01\n  2.19390e+01  2.38460e+01  4.75560e+01  8.34779e+01  9.26676e+01\n  1.21969e+02  1.05104e+02  8.98846e+01  7.62953e+01  7.71808e+01\n  7.44165e+01  7.31149e+01  6.96124e+01  3.17731e+01  4.11181e+01\n  5.36149e+01  4.06915e+01  2.71517e+01  2.61197e+01  2.01401e+01\n  2.04578e+01  2.15819e+01  2.36640e+01  2.29758e+01  2.33839e+01\n  2.14301e+01  2.17039e+01  3.36656e+01  2.90733e+01  3.39386e+01\n  3.92663e+01  5.38949e+01  4.98407e+01  2.71087e+01  2.96310e+01\n  4.04210e+01  3.66989e+01  4.27111e+01  4.54710e+01  3.69461e+01\n  2.38701e+01  2.20199e+01  1.69378e+01  1.60163e+01  1.50382e+01\n  1.47482e+01  1.52726e+01  1.92275e+01  1.97264e+01  2.12771e+01\n  1.90156e+01  1.95478e+01  1.77943e+01  2.08004e+01  2.43761e+01\n  1.82543e+01  1.56010e+01  1.12565e+01  1.23860e+01  1.56282e+01\n  2.20124e+01  3.24153e+01  5.87072e+01  6.70253e+01  8.11349e+01\n  5.33242e+01  5.32878e+01  4.23315e+01  2.59517e+01  1.52653e+01\n  1.56671e+01  1.80689e+01  2.37274e+01  2.68604e+01  3.40035e+01\n  3.28594e+01  2.75828e+01  2.06218e+01  1.46511e+01  1.44603e+01\n  8.47264e+00  7.27347e+00  9.06181e+00  1.19626e+01  1.72868e+01\n  5.49499e+01  1.06109e+02  1.05152e+02  6.51233e+01  4.81521e+01\n  3.04418e+01  3.47149e+01  3.05839e+01  2.48153e+01  2.68008e+01\n  2.95090e+01  4.36478e+01  4.02354e+01  3.76362e+01  3.14779e+01\n  3.19547e+01  3.55603e+01  3.75357e+01  1.99058e+01  1.90897e+01\n  1.95221e+01  2.32214e+01  3.13546e+01  2.75805e+01  6.05333e+01\n  1.21497e+02  1.15915e+02  8.92086e+01  5.11485e+01  3.29565e+01\n  2.41389e+01  4.16567e+01  3.28043e+01  2.36603e+01  2.76843e+01\n  2.52536e+01  3.02267e+01  3.53178e+01  3.11533e+01  2.80947e+01\n  3.08421e+01  3.67515e+01  4.13575e+01  4.34485e+01  4.30722e+01\n  4.16843e+01  4.11465e+01  5.65075e+01  8.12039e+01  1.26079e+02\n  1.07141e+02  7.87439e+01  3.23994e+01  2.90857e+01  2.74240e+01\n  2.88975e+01  3.09730e+01  2.70204e+01  2.07378e+01  3.20269e+01\n  4.84279e+01  3.70996e+01  3.81390e+01  6.16643e+01  7.16261e+01\n  8.18974e+01  8.93942e+01  7.68378e+01  8.46506e+01  8.76708e+01\n  6.52179e+01  6.46671e+01  8.12925e+01  1.06710e+02  1.37220e+02\n  9.42394e+01  5.34540e+01  3.09036e+01  2.25706e+01  1.91168e+01\n  1.86742e+01  1.81021e+01  1.78506e+01  3.67761e+01  4.15067e+01\n  4.29936e+01  7.19372e+01  7.36892e+01  9.34586e+01  1.10639e+02\n  1.14169e+02  9.46875e+01 -9.99900e+03  8.19806e+01  5.12249e+01\n  6.08153e+01  4.27590e+01  4.45050e+01  3.32797e+01  2.14068e+01\n  2.94072e+01  2.35600e+01  2.70318e+01  2.42972e+01  2.13644e+01\n  2.00908e+01  2.76907e+01  3.03946e+01  4.91789e+01  7.36636e+01\n  6.77585e+01  6.54967e+01  9.26061e+01  3.96451e+01  4.42061e+01\n  3.37421e+01  3.69110e+01  3.07276e+01  2.70497e+01  3.22328e+01\n  3.03547e+01  3.11082e+01  3.05100e+01  3.26643e+01  2.31747e+01\n  1.84078e+01  1.63393e+01  1.19487e+01  1.08492e+01  1.16501e+01\n  1.39992e+01  1.75914e+01  2.16451e+01  2.55901e+01  4.53747e+01\n  4.33139e+01  2.60176e+01  1.76210e+01  2.50131e+01  2.86892e+01\n  2.53319e+01  2.90551e+01  2.96901e+01  3.30921e+01  7.09072e+01\n  9.06750e+01  7.14592e+01  6.83121e+01  8.54661e+01  3.88056e+01\n  1.55667e+01 -9.99900e+03 -9.99900e+03  8.48083e+00  1.93393e+01\n  4.59046e+01  8.48928e+01  1.31875e+02  3.52742e+01  2.83392e+01\n  1.86236e+01  1.40297e+01  8.07472e+00  7.52097e+00  5.61125e+00\n  9.02431e+00  7.17778e+00  3.62208e+00  1.21785e+01  3.51017e+01\n  4.07736e+01  3.71531e+01  1.81031e+01  1.62787e+01  1.51651e+01\n  1.42019e+01  1.14486e+01  1.00344e+01  1.28150e+01  1.47354e+01\n  1.86718e+01  3.13035e+01  5.60300e+01  6.69176e+01  4.67451e+01\n  5.13989e+01  9.83181e+00  1.05863e+01  1.43932e+01  6.03264e+00\n  8.17569e+00  1.33175e+01  1.58892e+01  2.62878e+01  6.10724e+01\n  6.80743e+01  6.33176e+01  2.85711e+01  1.85522e+01  2.21853e+01\n  2.82279e+01  3.33740e+01  2.61388e+01  1.58706e+01  4.40183e+01\n  7.69824e+01  8.24708e+01  9.04778e+01  5.13761e+01  3.74011e+01\n  5.54257e+01  3.94076e+01  3.31235e+01  3.26617e+01  3.05163e+01\n  2.88193e+01  3.75243e+01  7.00694e+01  6.32731e+01  4.03633e+01\n  4.28047e+01  3.23643e+01  1.72214e+01  1.99190e+01  1.60165e+01\n  2.37772e+01  2.59079e+01  4.11940e+01  2.62396e+01  6.28103e+01\n  7.35357e+01  5.07660e+01  4.95433e+01  3.54089e+01].\nReshape your data either using array.reshape(-1, 1) if your data has a single feature or array.reshape(1, -1) if it contains a single sample.",
     "output_type": "error",
     "traceback": [
      "\u001b[1;31m---------------------------------------------------------------------------\u001b[0m",
      "\u001b[1;31mValueError\u001b[0m                                Traceback (most recent call last)",
      "\u001b[1;32m<ipython-input-131-e721cf8bc396>\u001b[0m in \u001b[0;36m<module>\u001b[1;34m\u001b[0m\n\u001b[0;32m      3\u001b[0m \u001b[1;33m\u001b[0m\u001b[0m\n\u001b[0;32m      4\u001b[0m \u001b[0mregr\u001b[0m \u001b[1;33m=\u001b[0m \u001b[0mlinear_model\u001b[0m\u001b[1;33m.\u001b[0m\u001b[0mLinearRegression\u001b[0m\u001b[1;33m(\u001b[0m\u001b[1;33m)\u001b[0m\u001b[1;33m\u001b[0m\u001b[1;33m\u001b[0m\u001b[0m\n\u001b[1;32m----> 5\u001b[1;33m \u001b[0mregr\u001b[0m\u001b[1;33m.\u001b[0m\u001b[0mfit\u001b[0m\u001b[1;33m(\u001b[0m\u001b[0mx\u001b[0m\u001b[1;33m,\u001b[0m \u001b[0my\u001b[0m\u001b[1;33m)\u001b[0m\u001b[1;33m\u001b[0m\u001b[1;33m\u001b[0m\u001b[0m\n\u001b[0m\u001b[0;32m      6\u001b[0m \u001b[1;33m\u001b[0m\u001b[0m\n\u001b[0;32m      7\u001b[0m \u001b[1;31m#predict the CO2 emission of a car where the weight is 2300g, and the volume is 1300ccm:\u001b[0m\u001b[1;33m\u001b[0m\u001b[1;33m\u001b[0m\u001b[1;33m\u001b[0m\u001b[0m\n",
      "\u001b[1;32m~\\Anaconda3\\lib\\site-packages\\sklearn\\linear_model\\base.py\u001b[0m in \u001b[0;36mfit\u001b[1;34m(self, X, y, sample_weight)\u001b[0m\n\u001b[0;32m    461\u001b[0m         \u001b[0mn_jobs_\u001b[0m \u001b[1;33m=\u001b[0m \u001b[0mself\u001b[0m\u001b[1;33m.\u001b[0m\u001b[0mn_jobs\u001b[0m\u001b[1;33m\u001b[0m\u001b[1;33m\u001b[0m\u001b[0m\n\u001b[0;32m    462\u001b[0m         X, y = check_X_y(X, y, accept_sparse=['csr', 'csc', 'coo'],\n\u001b[1;32m--> 463\u001b[1;33m                          y_numeric=True, multi_output=True)\n\u001b[0m\u001b[0;32m    464\u001b[0m \u001b[1;33m\u001b[0m\u001b[0m\n\u001b[0;32m    465\u001b[0m         \u001b[1;32mif\u001b[0m \u001b[0msample_weight\u001b[0m \u001b[1;32mis\u001b[0m \u001b[1;32mnot\u001b[0m \u001b[1;32mNone\u001b[0m \u001b[1;32mand\u001b[0m \u001b[0mnp\u001b[0m\u001b[1;33m.\u001b[0m\u001b[0matleast_1d\u001b[0m\u001b[1;33m(\u001b[0m\u001b[0msample_weight\u001b[0m\u001b[1;33m)\u001b[0m\u001b[1;33m.\u001b[0m\u001b[0mndim\u001b[0m \u001b[1;33m>\u001b[0m \u001b[1;36m1\u001b[0m\u001b[1;33m:\u001b[0m\u001b[1;33m\u001b[0m\u001b[1;33m\u001b[0m\u001b[0m\n",
      "\u001b[1;32m~\\Anaconda3\\lib\\site-packages\\sklearn\\utils\\validation.py\u001b[0m in \u001b[0;36mcheck_X_y\u001b[1;34m(X, y, accept_sparse, accept_large_sparse, dtype, order, copy, force_all_finite, ensure_2d, allow_nd, multi_output, ensure_min_samples, ensure_min_features, y_numeric, warn_on_dtype, estimator)\u001b[0m\n\u001b[0;32m    717\u001b[0m                     \u001b[0mensure_min_features\u001b[0m\u001b[1;33m=\u001b[0m\u001b[0mensure_min_features\u001b[0m\u001b[1;33m,\u001b[0m\u001b[1;33m\u001b[0m\u001b[1;33m\u001b[0m\u001b[0m\n\u001b[0;32m    718\u001b[0m                     \u001b[0mwarn_on_dtype\u001b[0m\u001b[1;33m=\u001b[0m\u001b[0mwarn_on_dtype\u001b[0m\u001b[1;33m,\u001b[0m\u001b[1;33m\u001b[0m\u001b[1;33m\u001b[0m\u001b[0m\n\u001b[1;32m--> 719\u001b[1;33m                     estimator=estimator)\n\u001b[0m\u001b[0;32m    720\u001b[0m     \u001b[1;32mif\u001b[0m \u001b[0mmulti_output\u001b[0m\u001b[1;33m:\u001b[0m\u001b[1;33m\u001b[0m\u001b[1;33m\u001b[0m\u001b[0m\n\u001b[0;32m    721\u001b[0m         y = check_array(y, 'csr', force_all_finite=True, ensure_2d=False,\n",
      "\u001b[1;32m~\\Anaconda3\\lib\\site-packages\\sklearn\\utils\\validation.py\u001b[0m in \u001b[0;36mcheck_array\u001b[1;34m(array, accept_sparse, accept_large_sparse, dtype, order, copy, force_all_finite, ensure_2d, allow_nd, ensure_min_samples, ensure_min_features, warn_on_dtype, estimator)\u001b[0m\n\u001b[0;32m    519\u001b[0m                     \u001b[1;34m\"Reshape your data either using array.reshape(-1, 1) if \"\u001b[0m\u001b[1;33m\u001b[0m\u001b[1;33m\u001b[0m\u001b[0m\n\u001b[0;32m    520\u001b[0m                     \u001b[1;34m\"your data has a single feature or array.reshape(1, -1) \"\u001b[0m\u001b[1;33m\u001b[0m\u001b[1;33m\u001b[0m\u001b[0m\n\u001b[1;32m--> 521\u001b[1;33m                     \"if it contains a single sample.\".format(array))\n\u001b[0m\u001b[0;32m    522\u001b[0m \u001b[1;33m\u001b[0m\u001b[0m\n\u001b[0;32m    523\u001b[0m         \u001b[1;31m# in the future np.flexible dtypes will be handled like object dtypes\u001b[0m\u001b[1;33m\u001b[0m\u001b[1;33m\u001b[0m\u001b[1;33m\u001b[0m\u001b[0m\n",
      "\u001b[1;31mValueError\u001b[0m: Expected 2D array, got 1D array instead:\narray=[ 1.11339e+02  6.19292e+01  4.52843e+01  4.41751e+01  4.19300e+01\n  4.93488e+01  9.48915e+01  1.27064e+02  1.03154e+02  1.12051e+02\n  7.16164e+01  6.54430e+01  3.35378e+01  2.21714e+01  1.67704e+01\n  1.47725e+01  1.88443e+01  2.46825e+01  4.20775e+01  5.95553e+01\n  8.35625e+01  1.01779e+02  9.97811e+01  8.45004e+01  6.51714e+01\n  7.79000e+01  7.62405e+01  5.75311e+01  3.94325e+01  4.69590e+01\n  6.43860e+01  9.77610e+01  1.23533e+02  8.77031e+01  5.14454e+01\n  2.24222e+01  2.28993e+01  2.35956e+01  1.77493e+01  1.89772e+01\n  1.97882e+01  2.18154e+01  2.32704e+01  2.87918e+01  2.77524e+01\n  2.94229e+01  3.45881e+01  2.97529e+01  3.43768e+01  3.23568e+01\n  3.05978e+01  2.72590e+01  3.97758e+01  4.56217e+01  8.33258e+01\n  6.66933e+01  4.49017e+01  3.38703e+01  4.33382e+01  2.89406e+01\n  2.81042e+01  2.11100e+01  1.89467e+01  1.93106e+01  1.94519e+01\n  1.93540e+01  2.63236e+01  2.88396e+01  2.80940e+01  2.98735e+01\n  2.92219e+01  1.95136e+01  1.86989e+01  1.77610e+01  1.25508e+01\n  1.22972e+01  2.05301e+01  3.32831e+01  4.73256e+01  6.79371e+01\n  9.35711e+01  4.57149e+01  2.15054e+01  1.87536e+01  1.58432e+01\n  1.52864e+01  1.25904e+01  1.49210e+01  1.85590e+01  2.41617e+01\n  2.35720e+01  2.37997e+01  2.57082e+01  2.31390e+01  2.51442e+01\n  1.75703e+01  1.44589e+01  1.71182e+01  2.25010e+01  2.50192e+01\n  2.44607e+01  2.36190e+01  2.11785e+01  1.91562e+01  3.38404e+01\n  3.47929e+01  3.23054e+01  2.81397e+01  2.98703e+01  2.41028e+01\n  2.07381e+01  1.90747e+01  2.20408e+01  2.20840e+01  2.33254e+01\n  2.48247e+01  2.38604e+01  2.31319e+01  2.42543e+01  1.88950e+01\n  1.84732e+01  1.67503e+01  1.52482e+01  1.94629e+01  2.30290e+01\n  3.29607e+01  5.01985e+01  1.06299e+02  1.24879e+02  9.02286e+01\n  7.70929e+01  7.27431e+01  4.33271e+01  3.59006e+01  3.06189e+01\n  2.23935e+01  2.37074e+01  2.78272e+01  3.31064e+01  3.28493e+01\n  2.73476e+01  2.16640e+01  2.07013e+01  2.28810e+01  2.25319e+01\n  2.95069e+01  2.59219e+01  3.04692e+01  2.96411e+01  3.43983e+01\n  4.73037e+01  9.08944e+01  7.00640e+01  5.99876e+01  3.33676e+01\n  2.99406e+01  3.32796e+01  3.05349e+01  2.30494e+01  2.38713e+01\n  4.66976e+01  4.49250e+01  3.51599e+01  3.88067e+01  4.29256e+01\n  3.92289e+01  3.16808e+01  3.22086e+01  3.20404e+01  2.78971e+01\n  2.87640e+01  3.14675e+01  3.09049e+01  3.19046e+01  4.84321e+01\n  5.49938e+01  7.43400e+01  8.06432e+01  6.13561e+01  8.16525e+01\n  4.55392e+01  8.59968e+01  8.22558e+01  6.86181e+01  7.32411e+01\n  7.93319e+01  9.06947e+01  1.57501e+02  1.21688e+02  6.77104e+01\n  5.10465e+01  4.86862e+01  3.50603e+01  3.35075e+01  4.89860e+01\n  3.88047e+01  3.72192e+01  4.13146e+01  7.24899e+01  1.14406e+02\n  1.06228e+02  1.01753e+02  1.06737e+02  6.37879e+01  2.60493e+01\n  1.69740e+01  1.28010e+01  1.86272e+01  2.42945e+01  3.76021e+01\n  4.99703e+01  3.93693e+01  5.44794e+01  3.59853e+01  5.45386e+01\n  6.47543e+01  5.09261e+01  5.49367e+01  4.87719e+01  4.42304e+01\n  4.92189e+01  5.15668e+01  6.35133e+01  1.04659e+02  9.63639e+01\n  7.30353e+01  8.52797e+01  5.38708e+01  4.16503e+01  4.59793e+01\n  4.21060e+01  7.43522e+01  7.63810e+01  9.83401e+01  1.37288e+02\n  1.88701e+02  2.04497e+02  1.72569e+02  1.37924e+02  1.54989e+02\n  1.42313e+02  1.24111e+02  9.66754e+01  9.60860e+01  1.01771e+02\n  1.13244e+02  1.26470e+02  1.42879e+02  1.34616e+02  9.17149e+01\n  6.93385e+01  7.25075e+01  3.69965e+01  2.06769e+01  2.23908e+01\n  2.05028e+01  3.89203e+01  4.33592e+01  5.05915e+01  4.02358e+01\n  6.40992e+01  6.15957e+01  5.66206e+01  8.62161e+01  8.12968e+01\n  6.78099e+01  5.54936e+01  4.48240e+01  5.35049e+01  6.25344e+01\n  6.58118e+01  8.16824e+01  9.03375e+01  7.17600e+01  5.92685e+01\n  5.23996e+01  3.98121e+01  4.11729e+01  2.60560e+01  2.66794e+01\n  2.94189e+01  2.92680e+01  4.90308e+01  5.38976e+01  3.54229e+01\n  3.32186e+01  3.57665e+01  2.68601e+01  2.29406e+01  2.10462e+01\n  2.36267e+01  2.21028e+01  2.41558e+01  4.10383e+01  6.42196e+01\n  1.33445e+02  9.01708e+01  6.17324e+01  6.76164e+01  5.38736e+01\n  4.60178e+01  3.22975e+01  2.62644e+01  3.89325e+01  7.34583e+01\n  7.23104e+01  9.12600e+01  1.31539e+02  6.22343e+01  6.55169e+01\n  8.46076e+01  1.02633e+02  8.50068e+01  8.88260e+01  7.59622e+01\n  4.49385e+01  4.92022e+01  4.83775e+01  7.87262e+01  1.42613e+02\n  1.33184e+02  8.45074e+01 -9.99900e+03 -9.99900e+03  2.17946e+01\n  2.32350e+01  2.43279e+01  2.83171e+01  2.77842e+01  3.49671e+01\n  5.49987e+01  1.06653e+02  9.98629e+01  1.14936e+02  1.13335e+02\n  1.04769e+02  8.67250e+01  5.74254e+01  2.91426e+01  2.79206e+01\n  2.79090e+01  3.48128e+01  5.05275e+01  7.51947e+01  9.95044e+01\n  8.16783e+01  5.45537e+01  4.14386e+01  4.38324e+01  3.19526e+01\n  2.91014e+01  3.41036e+01  2.73543e+01  3.58789e+01  4.03908e+01\n  6.07278e+01  6.57558e+01  7.69504e+01  9.73124e+01  1.38864e+02\n  1.12435e+02  4.43919e+01  3.61226e+01  3.29933e+01  3.35168e+01\n  3.94801e+01  6.20949e+01  8.96000e+01  9.20736e+01  9.43446e+01\n  6.79767e+01  3.45401e+01  2.78426e+01  2.09599e+01  1.74583e+01\n  1.83336e+01  1.53518e+01  2.00276e+01  3.30824e+01  3.17638e+01\n  2.74904e+01  2.58942e+01  2.76683e+01  2.44443e+01  1.36575e+01\n  1.25164e+01  1.90640e+01  9.06069e+00  1.29011e+01  1.44876e+01\n  6.38846e+01 -9.99900e+03 -9.99900e+03 -9.99900e+03 -9.99900e+03\n  1.38885e+01  8.93236e+00  2.00481e+01  1.82264e+01  1.25581e+01\n  1.50639e+01  2.18563e+01  2.59353e+01  4.25533e+01  9.77722e+01\n  1.14293e+02  1.00397e+02  3.71715e+01  2.36750e+01  1.56378e+01\n  1.20728e+01  1.12842e+01  2.27143e+01  3.51558e+01  4.28008e+01\n  5.55001e+01  6.33599e+01  3.80172e+01  3.02565e+01  2.60311e+01\n  2.52475e+01  2.30893e+01  2.58208e+01  2.07663e+01  2.15442e+01\n  2.19390e+01  2.38460e+01  4.75560e+01  8.34779e+01  9.26676e+01\n  1.21969e+02  1.05104e+02  8.98846e+01  7.62953e+01  7.71808e+01\n  7.44165e+01  7.31149e+01  6.96124e+01  3.17731e+01  4.11181e+01\n  5.36149e+01  4.06915e+01  2.71517e+01  2.61197e+01  2.01401e+01\n  2.04578e+01  2.15819e+01  2.36640e+01  2.29758e+01  2.33839e+01\n  2.14301e+01  2.17039e+01  3.36656e+01  2.90733e+01  3.39386e+01\n  3.92663e+01  5.38949e+01  4.98407e+01  2.71087e+01  2.96310e+01\n  4.04210e+01  3.66989e+01  4.27111e+01  4.54710e+01  3.69461e+01\n  2.38701e+01  2.20199e+01  1.69378e+01  1.60163e+01  1.50382e+01\n  1.47482e+01  1.52726e+01  1.92275e+01  1.97264e+01  2.12771e+01\n  1.90156e+01  1.95478e+01  1.77943e+01  2.08004e+01  2.43761e+01\n  1.82543e+01  1.56010e+01  1.12565e+01  1.23860e+01  1.56282e+01\n  2.20124e+01  3.24153e+01  5.87072e+01  6.70253e+01  8.11349e+01\n  5.33242e+01  5.32878e+01  4.23315e+01  2.59517e+01  1.52653e+01\n  1.56671e+01  1.80689e+01  2.37274e+01  2.68604e+01  3.40035e+01\n  3.28594e+01  2.75828e+01  2.06218e+01  1.46511e+01  1.44603e+01\n  8.47264e+00  7.27347e+00  9.06181e+00  1.19626e+01  1.72868e+01\n  5.49499e+01  1.06109e+02  1.05152e+02  6.51233e+01  4.81521e+01\n  3.04418e+01  3.47149e+01  3.05839e+01  2.48153e+01  2.68008e+01\n  2.95090e+01  4.36478e+01  4.02354e+01  3.76362e+01  3.14779e+01\n  3.19547e+01  3.55603e+01  3.75357e+01  1.99058e+01  1.90897e+01\n  1.95221e+01  2.32214e+01  3.13546e+01  2.75805e+01  6.05333e+01\n  1.21497e+02  1.15915e+02  8.92086e+01  5.11485e+01  3.29565e+01\n  2.41389e+01  4.16567e+01  3.28043e+01  2.36603e+01  2.76843e+01\n  2.52536e+01  3.02267e+01  3.53178e+01  3.11533e+01  2.80947e+01\n  3.08421e+01  3.67515e+01  4.13575e+01  4.34485e+01  4.30722e+01\n  4.16843e+01  4.11465e+01  5.65075e+01  8.12039e+01  1.26079e+02\n  1.07141e+02  7.87439e+01  3.23994e+01  2.90857e+01  2.74240e+01\n  2.88975e+01  3.09730e+01  2.70204e+01  2.07378e+01  3.20269e+01\n  4.84279e+01  3.70996e+01  3.81390e+01  6.16643e+01  7.16261e+01\n  8.18974e+01  8.93942e+01  7.68378e+01  8.46506e+01  8.76708e+01\n  6.52179e+01  6.46671e+01  8.12925e+01  1.06710e+02  1.37220e+02\n  9.42394e+01  5.34540e+01  3.09036e+01  2.25706e+01  1.91168e+01\n  1.86742e+01  1.81021e+01  1.78506e+01  3.67761e+01  4.15067e+01\n  4.29936e+01  7.19372e+01  7.36892e+01  9.34586e+01  1.10639e+02\n  1.14169e+02  9.46875e+01 -9.99900e+03  8.19806e+01  5.12249e+01\n  6.08153e+01  4.27590e+01  4.45050e+01  3.32797e+01  2.14068e+01\n  2.94072e+01  2.35600e+01  2.70318e+01  2.42972e+01  2.13644e+01\n  2.00908e+01  2.76907e+01  3.03946e+01  4.91789e+01  7.36636e+01\n  6.77585e+01  6.54967e+01  9.26061e+01  3.96451e+01  4.42061e+01\n  3.37421e+01  3.69110e+01  3.07276e+01  2.70497e+01  3.22328e+01\n  3.03547e+01  3.11082e+01  3.05100e+01  3.26643e+01  2.31747e+01\n  1.84078e+01  1.63393e+01  1.19487e+01  1.08492e+01  1.16501e+01\n  1.39992e+01  1.75914e+01  2.16451e+01  2.55901e+01  4.53747e+01\n  4.33139e+01  2.60176e+01  1.76210e+01  2.50131e+01  2.86892e+01\n  2.53319e+01  2.90551e+01  2.96901e+01  3.30921e+01  7.09072e+01\n  9.06750e+01  7.14592e+01  6.83121e+01  8.54661e+01  3.88056e+01\n  1.55667e+01 -9.99900e+03 -9.99900e+03  8.48083e+00  1.93393e+01\n  4.59046e+01  8.48928e+01  1.31875e+02  3.52742e+01  2.83392e+01\n  1.86236e+01  1.40297e+01  8.07472e+00  7.52097e+00  5.61125e+00\n  9.02431e+00  7.17778e+00  3.62208e+00  1.21785e+01  3.51017e+01\n  4.07736e+01  3.71531e+01  1.81031e+01  1.62787e+01  1.51651e+01\n  1.42019e+01  1.14486e+01  1.00344e+01  1.28150e+01  1.47354e+01\n  1.86718e+01  3.13035e+01  5.60300e+01  6.69176e+01  4.67451e+01\n  5.13989e+01  9.83181e+00  1.05863e+01  1.43932e+01  6.03264e+00\n  8.17569e+00  1.33175e+01  1.58892e+01  2.62878e+01  6.10724e+01\n  6.80743e+01  6.33176e+01  2.85711e+01  1.85522e+01  2.21853e+01\n  2.82279e+01  3.33740e+01  2.61388e+01  1.58706e+01  4.40183e+01\n  7.69824e+01  8.24708e+01  9.04778e+01  5.13761e+01  3.74011e+01\n  5.54257e+01  3.94076e+01  3.31235e+01  3.26617e+01  3.05163e+01\n  2.88193e+01  3.75243e+01  7.00694e+01  6.32731e+01  4.03633e+01\n  4.28047e+01  3.23643e+01  1.72214e+01  1.99190e+01  1.60165e+01\n  2.37772e+01  2.59079e+01  4.11940e+01  2.62396e+01  6.28103e+01\n  7.35357e+01  5.07660e+01  4.95433e+01  3.54089e+01].\nReshape your data either using array.reshape(-1, 1) if your data has a single feature or array.reshape(1, -1) if it contains a single sample."
     ]
    }
   ],
   "source": [
    "X = siata[['NOX','no2']]\n",
    "y = siata['pm10']\n",
    "\n",
    "regr = linear_model.LinearRegression()\n",
    "regr.fit(x, y)\n",
    "\n",
    "#predict the CO2 emission of a car where the weight is 2300g, and the volume is 1300ccm:\n",
    "predictedpm10 = regr.predict([[111.3390, 15.85690]])\n",
    "\n",
    "print(predictedpm10)"
   ]
  },
  {
   "cell_type": "code",
   "execution_count": 129,
   "metadata": {},
   "outputs": [
    {
     "ename": "ValueError",
     "evalue": "Expected 2D array, got 1D array instead:\narray=[ 1.11339e+02  6.19292e+01  4.52843e+01  4.41751e+01  4.19300e+01\n  4.93488e+01  9.48915e+01  1.27064e+02  1.03154e+02  1.12051e+02\n  7.16164e+01  6.54430e+01  3.35378e+01  2.21714e+01  1.67704e+01\n  1.47725e+01  1.88443e+01  2.46825e+01  4.20775e+01  5.95553e+01\n  8.35625e+01  1.01779e+02  9.97811e+01  8.45004e+01  6.51714e+01\n  7.79000e+01  7.62405e+01  5.75311e+01  3.94325e+01  4.69590e+01\n  6.43860e+01  9.77610e+01  1.23533e+02  8.77031e+01  5.14454e+01\n  2.24222e+01  2.28993e+01  2.35956e+01  1.77493e+01  1.89772e+01\n  1.97882e+01  2.18154e+01  2.32704e+01  2.87918e+01  2.77524e+01\n  2.94229e+01  3.45881e+01  2.97529e+01  3.43768e+01  3.23568e+01\n  3.05978e+01  2.72590e+01  3.97758e+01  4.56217e+01  8.33258e+01\n  6.66933e+01  4.49017e+01  3.38703e+01  4.33382e+01  2.89406e+01\n  2.81042e+01  2.11100e+01  1.89467e+01  1.93106e+01  1.94519e+01\n  1.93540e+01  2.63236e+01  2.88396e+01  2.80940e+01  2.98735e+01\n  2.92219e+01  1.95136e+01  1.86989e+01  1.77610e+01  1.25508e+01\n  1.22972e+01  2.05301e+01  3.32831e+01  4.73256e+01  6.79371e+01\n  9.35711e+01  4.57149e+01  2.15054e+01  1.87536e+01  1.58432e+01\n  1.52864e+01  1.25904e+01  1.49210e+01  1.85590e+01  2.41617e+01\n  2.35720e+01  2.37997e+01  2.57082e+01  2.31390e+01  2.51442e+01\n  1.75703e+01  1.44589e+01  1.71182e+01  2.25010e+01  2.50192e+01\n  2.44607e+01  2.36190e+01  2.11785e+01  1.91562e+01  3.38404e+01\n  3.47929e+01  3.23054e+01  2.81397e+01  2.98703e+01  2.41028e+01\n  2.07381e+01  1.90747e+01  2.20408e+01  2.20840e+01  2.33254e+01\n  2.48247e+01  2.38604e+01  2.31319e+01  2.42543e+01  1.88950e+01\n  1.84732e+01  1.67503e+01  1.52482e+01  1.94629e+01  2.30290e+01\n  3.29607e+01  5.01985e+01  1.06299e+02  1.24879e+02  9.02286e+01\n  7.70929e+01  7.27431e+01  4.33271e+01  3.59006e+01  3.06189e+01\n  2.23935e+01  2.37074e+01  2.78272e+01  3.31064e+01  3.28493e+01\n  2.73476e+01  2.16640e+01  2.07013e+01  2.28810e+01  2.25319e+01\n  2.95069e+01  2.59219e+01  3.04692e+01  2.96411e+01  3.43983e+01\n  4.73037e+01  9.08944e+01  7.00640e+01  5.99876e+01  3.33676e+01\n  2.99406e+01  3.32796e+01  3.05349e+01  2.30494e+01  2.38713e+01\n  4.66976e+01  4.49250e+01  3.51599e+01  3.88067e+01  4.29256e+01\n  3.92289e+01  3.16808e+01  3.22086e+01  3.20404e+01  2.78971e+01\n  2.87640e+01  3.14675e+01  3.09049e+01  3.19046e+01  4.84321e+01\n  5.49938e+01  7.43400e+01  8.06432e+01  6.13561e+01  8.16525e+01\n  4.55392e+01  8.59968e+01  8.22558e+01  6.86181e+01  7.32411e+01\n  7.93319e+01  9.06947e+01  1.57501e+02  1.21688e+02  6.77104e+01\n  5.10465e+01  4.86862e+01  3.50603e+01  3.35075e+01  4.89860e+01\n  3.88047e+01  3.72192e+01  4.13146e+01  7.24899e+01  1.14406e+02\n  1.06228e+02  1.01753e+02  1.06737e+02  6.37879e+01  2.60493e+01\n  1.69740e+01  1.28010e+01  1.86272e+01  2.42945e+01  3.76021e+01\n  4.99703e+01  3.93693e+01  5.44794e+01  3.59853e+01  5.45386e+01\n  6.47543e+01  5.09261e+01  5.49367e+01  4.87719e+01  4.42304e+01\n  4.92189e+01  5.15668e+01  6.35133e+01  1.04659e+02  9.63639e+01\n  7.30353e+01  8.52797e+01  5.38708e+01  4.16503e+01  4.59793e+01\n  4.21060e+01  7.43522e+01  7.63810e+01  9.83401e+01  1.37288e+02\n  1.88701e+02  2.04497e+02  1.72569e+02  1.37924e+02  1.54989e+02\n  1.42313e+02  1.24111e+02  9.66754e+01  9.60860e+01  1.01771e+02\n  1.13244e+02  1.26470e+02  1.42879e+02  1.34616e+02  9.17149e+01\n  6.93385e+01  7.25075e+01  3.69965e+01  2.06769e+01  2.23908e+01\n  2.05028e+01  3.89203e+01  4.33592e+01  5.05915e+01  4.02358e+01\n  6.40992e+01  6.15957e+01  5.66206e+01  8.62161e+01  8.12968e+01\n  6.78099e+01  5.54936e+01  4.48240e+01  5.35049e+01  6.25344e+01\n  6.58118e+01  8.16824e+01  9.03375e+01  7.17600e+01  5.92685e+01\n  5.23996e+01  3.98121e+01  4.11729e+01  2.60560e+01  2.66794e+01\n  2.94189e+01  2.92680e+01  4.90308e+01  5.38976e+01  3.54229e+01\n  3.32186e+01  3.57665e+01  2.68601e+01  2.29406e+01  2.10462e+01\n  2.36267e+01  2.21028e+01  2.41558e+01  4.10383e+01  6.42196e+01\n  1.33445e+02  9.01708e+01  6.17324e+01  6.76164e+01  5.38736e+01\n  4.60178e+01  3.22975e+01  2.62644e+01  3.89325e+01  7.34583e+01\n  7.23104e+01  9.12600e+01  1.31539e+02  6.22343e+01  6.55169e+01\n  8.46076e+01  1.02633e+02  8.50068e+01  8.88260e+01  7.59622e+01\n  4.49385e+01  4.92022e+01  4.83775e+01  7.87262e+01  1.42613e+02\n  1.33184e+02  8.45074e+01 -9.99900e+03 -9.99900e+03  2.17946e+01\n  2.32350e+01  2.43279e+01  2.83171e+01  2.77842e+01  3.49671e+01\n  5.49987e+01  1.06653e+02  9.98629e+01  1.14936e+02  1.13335e+02\n  1.04769e+02  8.67250e+01  5.74254e+01  2.91426e+01  2.79206e+01\n  2.79090e+01  3.48128e+01  5.05275e+01  7.51947e+01  9.95044e+01\n  8.16783e+01  5.45537e+01  4.14386e+01  4.38324e+01  3.19526e+01\n  2.91014e+01  3.41036e+01  2.73543e+01  3.58789e+01  4.03908e+01\n  6.07278e+01  6.57558e+01  7.69504e+01  9.73124e+01  1.38864e+02\n  1.12435e+02  4.43919e+01  3.61226e+01  3.29933e+01  3.35168e+01\n  3.94801e+01  6.20949e+01  8.96000e+01  9.20736e+01  9.43446e+01\n  6.79767e+01  3.45401e+01  2.78426e+01  2.09599e+01  1.74583e+01\n  1.83336e+01  1.53518e+01  2.00276e+01  3.30824e+01  3.17638e+01\n  2.74904e+01  2.58942e+01  2.76683e+01  2.44443e+01  1.36575e+01\n  1.25164e+01  1.90640e+01  9.06069e+00  1.29011e+01  1.44876e+01\n  6.38846e+01 -9.99900e+03 -9.99900e+03 -9.99900e+03 -9.99900e+03\n  1.38885e+01  8.93236e+00  2.00481e+01  1.82264e+01  1.25581e+01\n  1.50639e+01  2.18563e+01  2.59353e+01  4.25533e+01  9.77722e+01\n  1.14293e+02  1.00397e+02  3.71715e+01  2.36750e+01  1.56378e+01\n  1.20728e+01  1.12842e+01  2.27143e+01  3.51558e+01  4.28008e+01\n  5.55001e+01  6.33599e+01  3.80172e+01  3.02565e+01  2.60311e+01\n  2.52475e+01  2.30893e+01  2.58208e+01  2.07663e+01  2.15442e+01\n  2.19390e+01  2.38460e+01  4.75560e+01  8.34779e+01  9.26676e+01\n  1.21969e+02  1.05104e+02  8.98846e+01  7.62953e+01  7.71808e+01\n  7.44165e+01  7.31149e+01  6.96124e+01  3.17731e+01  4.11181e+01\n  5.36149e+01  4.06915e+01  2.71517e+01  2.61197e+01  2.01401e+01\n  2.04578e+01  2.15819e+01  2.36640e+01  2.29758e+01  2.33839e+01\n  2.14301e+01  2.17039e+01  3.36656e+01  2.90733e+01  3.39386e+01\n  3.92663e+01  5.38949e+01  4.98407e+01  2.71087e+01  2.96310e+01\n  4.04210e+01  3.66989e+01  4.27111e+01  4.54710e+01  3.69461e+01\n  2.38701e+01  2.20199e+01  1.69378e+01  1.60163e+01  1.50382e+01\n  1.47482e+01  1.52726e+01  1.92275e+01  1.97264e+01  2.12771e+01\n  1.90156e+01  1.95478e+01  1.77943e+01  2.08004e+01  2.43761e+01\n  1.82543e+01  1.56010e+01  1.12565e+01  1.23860e+01  1.56282e+01\n  2.20124e+01  3.24153e+01  5.87072e+01  6.70253e+01  8.11349e+01\n  5.33242e+01  5.32878e+01  4.23315e+01  2.59517e+01  1.52653e+01\n  1.56671e+01  1.80689e+01  2.37274e+01  2.68604e+01  3.40035e+01\n  3.28594e+01  2.75828e+01  2.06218e+01  1.46511e+01  1.44603e+01\n  8.47264e+00  7.27347e+00  9.06181e+00  1.19626e+01  1.72868e+01\n  5.49499e+01  1.06109e+02  1.05152e+02  6.51233e+01  4.81521e+01\n  3.04418e+01  3.47149e+01  3.05839e+01  2.48153e+01  2.68008e+01\n  2.95090e+01  4.36478e+01  4.02354e+01  3.76362e+01  3.14779e+01\n  3.19547e+01  3.55603e+01  3.75357e+01  1.99058e+01  1.90897e+01\n  1.95221e+01  2.32214e+01  3.13546e+01  2.75805e+01  6.05333e+01\n  1.21497e+02  1.15915e+02  8.92086e+01  5.11485e+01  3.29565e+01\n  2.41389e+01  4.16567e+01  3.28043e+01  2.36603e+01  2.76843e+01\n  2.52536e+01  3.02267e+01  3.53178e+01  3.11533e+01  2.80947e+01\n  3.08421e+01  3.67515e+01  4.13575e+01  4.34485e+01  4.30722e+01\n  4.16843e+01  4.11465e+01  5.65075e+01  8.12039e+01  1.26079e+02\n  1.07141e+02  7.87439e+01  3.23994e+01  2.90857e+01  2.74240e+01\n  2.88975e+01  3.09730e+01  2.70204e+01  2.07378e+01  3.20269e+01\n  4.84279e+01  3.70996e+01  3.81390e+01  6.16643e+01  7.16261e+01\n  8.18974e+01  8.93942e+01  7.68378e+01  8.46506e+01  8.76708e+01\n  6.52179e+01  6.46671e+01  8.12925e+01  1.06710e+02  1.37220e+02\n  9.42394e+01  5.34540e+01  3.09036e+01  2.25706e+01  1.91168e+01\n  1.86742e+01  1.81021e+01  1.78506e+01  3.67761e+01  4.15067e+01\n  4.29936e+01  7.19372e+01  7.36892e+01  9.34586e+01  1.10639e+02\n  1.14169e+02  9.46875e+01 -9.99900e+03  8.19806e+01  5.12249e+01\n  6.08153e+01  4.27590e+01  4.45050e+01  3.32797e+01  2.14068e+01\n  2.94072e+01  2.35600e+01  2.70318e+01  2.42972e+01  2.13644e+01\n  2.00908e+01  2.76907e+01  3.03946e+01  4.91789e+01  7.36636e+01\n  6.77585e+01  6.54967e+01  9.26061e+01  3.96451e+01  4.42061e+01\n  3.37421e+01  3.69110e+01  3.07276e+01  2.70497e+01  3.22328e+01\n  3.03547e+01  3.11082e+01  3.05100e+01  3.26643e+01  2.31747e+01\n  1.84078e+01  1.63393e+01  1.19487e+01  1.08492e+01  1.16501e+01\n  1.39992e+01  1.75914e+01  2.16451e+01  2.55901e+01  4.53747e+01\n  4.33139e+01  2.60176e+01  1.76210e+01  2.50131e+01  2.86892e+01\n  2.53319e+01  2.90551e+01  2.96901e+01  3.30921e+01  7.09072e+01\n  9.06750e+01  7.14592e+01  6.83121e+01  8.54661e+01  3.88056e+01\n  1.55667e+01 -9.99900e+03 -9.99900e+03  8.48083e+00  1.93393e+01\n  4.59046e+01  8.48928e+01  1.31875e+02  3.52742e+01  2.83392e+01\n  1.86236e+01  1.40297e+01  8.07472e+00  7.52097e+00  5.61125e+00\n  9.02431e+00  7.17778e+00  3.62208e+00  1.21785e+01  3.51017e+01\n  4.07736e+01  3.71531e+01  1.81031e+01  1.62787e+01  1.51651e+01\n  1.42019e+01  1.14486e+01  1.00344e+01  1.28150e+01  1.47354e+01\n  1.86718e+01  3.13035e+01  5.60300e+01  6.69176e+01  4.67451e+01\n  5.13989e+01  9.83181e+00  1.05863e+01  1.43932e+01  6.03264e+00\n  8.17569e+00  1.33175e+01  1.58892e+01  2.62878e+01  6.10724e+01\n  6.80743e+01  6.33176e+01  2.85711e+01  1.85522e+01  2.21853e+01\n  2.82279e+01  3.33740e+01  2.61388e+01  1.58706e+01  4.40183e+01\n  7.69824e+01  8.24708e+01  9.04778e+01  5.13761e+01  3.74011e+01\n  5.54257e+01  3.94076e+01  3.31235e+01  3.26617e+01  3.05163e+01\n  2.88193e+01  3.75243e+01  7.00694e+01  6.32731e+01  4.03633e+01\n  4.28047e+01  3.23643e+01  1.72214e+01  1.99190e+01  1.60165e+01\n  2.37772e+01  2.59079e+01  4.11940e+01  2.62396e+01  6.28103e+01\n  7.35357e+01  5.07660e+01  4.95433e+01  3.54089e+01].\nReshape your data either using array.reshape(-1, 1) if your data has a single feature or array.reshape(1, -1) if it contains a single sample.",
     "output_type": "error",
     "traceback": [
      "\u001b[1;31m---------------------------------------------------------------------------\u001b[0m",
      "\u001b[1;31mValueError\u001b[0m                                Traceback (most recent call last)",
      "\u001b[1;32m<ipython-input-129-fe45febeb7fa>\u001b[0m in \u001b[0;36m<module>\u001b[1;34m\u001b[0m\n\u001b[0;32m      1\u001b[0m \u001b[0mregr\u001b[0m \u001b[1;33m=\u001b[0m \u001b[0mlinear_model\u001b[0m\u001b[1;33m.\u001b[0m\u001b[0mLinearRegression\u001b[0m\u001b[1;33m(\u001b[0m\u001b[1;33m)\u001b[0m\u001b[1;33m\u001b[0m\u001b[1;33m\u001b[0m\u001b[0m\n\u001b[1;32m----> 2\u001b[1;33m \u001b[0mregr\u001b[0m\u001b[1;33m.\u001b[0m\u001b[0mfit\u001b[0m\u001b[1;33m(\u001b[0m\u001b[0mx\u001b[0m\u001b[1;33m,\u001b[0m \u001b[0my\u001b[0m\u001b[1;33m)\u001b[0m\u001b[1;33m\u001b[0m\u001b[1;33m\u001b[0m\u001b[0m\n\u001b[0m",
      "\u001b[1;32m~\\Anaconda3\\lib\\site-packages\\sklearn\\linear_model\\base.py\u001b[0m in \u001b[0;36mfit\u001b[1;34m(self, X, y, sample_weight)\u001b[0m\n\u001b[0;32m    461\u001b[0m         \u001b[0mn_jobs_\u001b[0m \u001b[1;33m=\u001b[0m \u001b[0mself\u001b[0m\u001b[1;33m.\u001b[0m\u001b[0mn_jobs\u001b[0m\u001b[1;33m\u001b[0m\u001b[1;33m\u001b[0m\u001b[0m\n\u001b[0;32m    462\u001b[0m         X, y = check_X_y(X, y, accept_sparse=['csr', 'csc', 'coo'],\n\u001b[1;32m--> 463\u001b[1;33m                          y_numeric=True, multi_output=True)\n\u001b[0m\u001b[0;32m    464\u001b[0m \u001b[1;33m\u001b[0m\u001b[0m\n\u001b[0;32m    465\u001b[0m         \u001b[1;32mif\u001b[0m \u001b[0msample_weight\u001b[0m \u001b[1;32mis\u001b[0m \u001b[1;32mnot\u001b[0m \u001b[1;32mNone\u001b[0m \u001b[1;32mand\u001b[0m \u001b[0mnp\u001b[0m\u001b[1;33m.\u001b[0m\u001b[0matleast_1d\u001b[0m\u001b[1;33m(\u001b[0m\u001b[0msample_weight\u001b[0m\u001b[1;33m)\u001b[0m\u001b[1;33m.\u001b[0m\u001b[0mndim\u001b[0m \u001b[1;33m>\u001b[0m \u001b[1;36m1\u001b[0m\u001b[1;33m:\u001b[0m\u001b[1;33m\u001b[0m\u001b[1;33m\u001b[0m\u001b[0m\n",
      "\u001b[1;32m~\\Anaconda3\\lib\\site-packages\\sklearn\\utils\\validation.py\u001b[0m in \u001b[0;36mcheck_X_y\u001b[1;34m(X, y, accept_sparse, accept_large_sparse, dtype, order, copy, force_all_finite, ensure_2d, allow_nd, multi_output, ensure_min_samples, ensure_min_features, y_numeric, warn_on_dtype, estimator)\u001b[0m\n\u001b[0;32m    717\u001b[0m                     \u001b[0mensure_min_features\u001b[0m\u001b[1;33m=\u001b[0m\u001b[0mensure_min_features\u001b[0m\u001b[1;33m,\u001b[0m\u001b[1;33m\u001b[0m\u001b[1;33m\u001b[0m\u001b[0m\n\u001b[0;32m    718\u001b[0m                     \u001b[0mwarn_on_dtype\u001b[0m\u001b[1;33m=\u001b[0m\u001b[0mwarn_on_dtype\u001b[0m\u001b[1;33m,\u001b[0m\u001b[1;33m\u001b[0m\u001b[1;33m\u001b[0m\u001b[0m\n\u001b[1;32m--> 719\u001b[1;33m                     estimator=estimator)\n\u001b[0m\u001b[0;32m    720\u001b[0m     \u001b[1;32mif\u001b[0m \u001b[0mmulti_output\u001b[0m\u001b[1;33m:\u001b[0m\u001b[1;33m\u001b[0m\u001b[1;33m\u001b[0m\u001b[0m\n\u001b[0;32m    721\u001b[0m         y = check_array(y, 'csr', force_all_finite=True, ensure_2d=False,\n",
      "\u001b[1;32m~\\Anaconda3\\lib\\site-packages\\sklearn\\utils\\validation.py\u001b[0m in \u001b[0;36mcheck_array\u001b[1;34m(array, accept_sparse, accept_large_sparse, dtype, order, copy, force_all_finite, ensure_2d, allow_nd, ensure_min_samples, ensure_min_features, warn_on_dtype, estimator)\u001b[0m\n\u001b[0;32m    519\u001b[0m                     \u001b[1;34m\"Reshape your data either using array.reshape(-1, 1) if \"\u001b[0m\u001b[1;33m\u001b[0m\u001b[1;33m\u001b[0m\u001b[0m\n\u001b[0;32m    520\u001b[0m                     \u001b[1;34m\"your data has a single feature or array.reshape(1, -1) \"\u001b[0m\u001b[1;33m\u001b[0m\u001b[1;33m\u001b[0m\u001b[0m\n\u001b[1;32m--> 521\u001b[1;33m                     \"if it contains a single sample.\".format(array))\n\u001b[0m\u001b[0;32m    522\u001b[0m \u001b[1;33m\u001b[0m\u001b[0m\n\u001b[0;32m    523\u001b[0m         \u001b[1;31m# in the future np.flexible dtypes will be handled like object dtypes\u001b[0m\u001b[1;33m\u001b[0m\u001b[1;33m\u001b[0m\u001b[1;33m\u001b[0m\u001b[0m\n",
      "\u001b[1;31mValueError\u001b[0m: Expected 2D array, got 1D array instead:\narray=[ 1.11339e+02  6.19292e+01  4.52843e+01  4.41751e+01  4.19300e+01\n  4.93488e+01  9.48915e+01  1.27064e+02  1.03154e+02  1.12051e+02\n  7.16164e+01  6.54430e+01  3.35378e+01  2.21714e+01  1.67704e+01\n  1.47725e+01  1.88443e+01  2.46825e+01  4.20775e+01  5.95553e+01\n  8.35625e+01  1.01779e+02  9.97811e+01  8.45004e+01  6.51714e+01\n  7.79000e+01  7.62405e+01  5.75311e+01  3.94325e+01  4.69590e+01\n  6.43860e+01  9.77610e+01  1.23533e+02  8.77031e+01  5.14454e+01\n  2.24222e+01  2.28993e+01  2.35956e+01  1.77493e+01  1.89772e+01\n  1.97882e+01  2.18154e+01  2.32704e+01  2.87918e+01  2.77524e+01\n  2.94229e+01  3.45881e+01  2.97529e+01  3.43768e+01  3.23568e+01\n  3.05978e+01  2.72590e+01  3.97758e+01  4.56217e+01  8.33258e+01\n  6.66933e+01  4.49017e+01  3.38703e+01  4.33382e+01  2.89406e+01\n  2.81042e+01  2.11100e+01  1.89467e+01  1.93106e+01  1.94519e+01\n  1.93540e+01  2.63236e+01  2.88396e+01  2.80940e+01  2.98735e+01\n  2.92219e+01  1.95136e+01  1.86989e+01  1.77610e+01  1.25508e+01\n  1.22972e+01  2.05301e+01  3.32831e+01  4.73256e+01  6.79371e+01\n  9.35711e+01  4.57149e+01  2.15054e+01  1.87536e+01  1.58432e+01\n  1.52864e+01  1.25904e+01  1.49210e+01  1.85590e+01  2.41617e+01\n  2.35720e+01  2.37997e+01  2.57082e+01  2.31390e+01  2.51442e+01\n  1.75703e+01  1.44589e+01  1.71182e+01  2.25010e+01  2.50192e+01\n  2.44607e+01  2.36190e+01  2.11785e+01  1.91562e+01  3.38404e+01\n  3.47929e+01  3.23054e+01  2.81397e+01  2.98703e+01  2.41028e+01\n  2.07381e+01  1.90747e+01  2.20408e+01  2.20840e+01  2.33254e+01\n  2.48247e+01  2.38604e+01  2.31319e+01  2.42543e+01  1.88950e+01\n  1.84732e+01  1.67503e+01  1.52482e+01  1.94629e+01  2.30290e+01\n  3.29607e+01  5.01985e+01  1.06299e+02  1.24879e+02  9.02286e+01\n  7.70929e+01  7.27431e+01  4.33271e+01  3.59006e+01  3.06189e+01\n  2.23935e+01  2.37074e+01  2.78272e+01  3.31064e+01  3.28493e+01\n  2.73476e+01  2.16640e+01  2.07013e+01  2.28810e+01  2.25319e+01\n  2.95069e+01  2.59219e+01  3.04692e+01  2.96411e+01  3.43983e+01\n  4.73037e+01  9.08944e+01  7.00640e+01  5.99876e+01  3.33676e+01\n  2.99406e+01  3.32796e+01  3.05349e+01  2.30494e+01  2.38713e+01\n  4.66976e+01  4.49250e+01  3.51599e+01  3.88067e+01  4.29256e+01\n  3.92289e+01  3.16808e+01  3.22086e+01  3.20404e+01  2.78971e+01\n  2.87640e+01  3.14675e+01  3.09049e+01  3.19046e+01  4.84321e+01\n  5.49938e+01  7.43400e+01  8.06432e+01  6.13561e+01  8.16525e+01\n  4.55392e+01  8.59968e+01  8.22558e+01  6.86181e+01  7.32411e+01\n  7.93319e+01  9.06947e+01  1.57501e+02  1.21688e+02  6.77104e+01\n  5.10465e+01  4.86862e+01  3.50603e+01  3.35075e+01  4.89860e+01\n  3.88047e+01  3.72192e+01  4.13146e+01  7.24899e+01  1.14406e+02\n  1.06228e+02  1.01753e+02  1.06737e+02  6.37879e+01  2.60493e+01\n  1.69740e+01  1.28010e+01  1.86272e+01  2.42945e+01  3.76021e+01\n  4.99703e+01  3.93693e+01  5.44794e+01  3.59853e+01  5.45386e+01\n  6.47543e+01  5.09261e+01  5.49367e+01  4.87719e+01  4.42304e+01\n  4.92189e+01  5.15668e+01  6.35133e+01  1.04659e+02  9.63639e+01\n  7.30353e+01  8.52797e+01  5.38708e+01  4.16503e+01  4.59793e+01\n  4.21060e+01  7.43522e+01  7.63810e+01  9.83401e+01  1.37288e+02\n  1.88701e+02  2.04497e+02  1.72569e+02  1.37924e+02  1.54989e+02\n  1.42313e+02  1.24111e+02  9.66754e+01  9.60860e+01  1.01771e+02\n  1.13244e+02  1.26470e+02  1.42879e+02  1.34616e+02  9.17149e+01\n  6.93385e+01  7.25075e+01  3.69965e+01  2.06769e+01  2.23908e+01\n  2.05028e+01  3.89203e+01  4.33592e+01  5.05915e+01  4.02358e+01\n  6.40992e+01  6.15957e+01  5.66206e+01  8.62161e+01  8.12968e+01\n  6.78099e+01  5.54936e+01  4.48240e+01  5.35049e+01  6.25344e+01\n  6.58118e+01  8.16824e+01  9.03375e+01  7.17600e+01  5.92685e+01\n  5.23996e+01  3.98121e+01  4.11729e+01  2.60560e+01  2.66794e+01\n  2.94189e+01  2.92680e+01  4.90308e+01  5.38976e+01  3.54229e+01\n  3.32186e+01  3.57665e+01  2.68601e+01  2.29406e+01  2.10462e+01\n  2.36267e+01  2.21028e+01  2.41558e+01  4.10383e+01  6.42196e+01\n  1.33445e+02  9.01708e+01  6.17324e+01  6.76164e+01  5.38736e+01\n  4.60178e+01  3.22975e+01  2.62644e+01  3.89325e+01  7.34583e+01\n  7.23104e+01  9.12600e+01  1.31539e+02  6.22343e+01  6.55169e+01\n  8.46076e+01  1.02633e+02  8.50068e+01  8.88260e+01  7.59622e+01\n  4.49385e+01  4.92022e+01  4.83775e+01  7.87262e+01  1.42613e+02\n  1.33184e+02  8.45074e+01 -9.99900e+03 -9.99900e+03  2.17946e+01\n  2.32350e+01  2.43279e+01  2.83171e+01  2.77842e+01  3.49671e+01\n  5.49987e+01  1.06653e+02  9.98629e+01  1.14936e+02  1.13335e+02\n  1.04769e+02  8.67250e+01  5.74254e+01  2.91426e+01  2.79206e+01\n  2.79090e+01  3.48128e+01  5.05275e+01  7.51947e+01  9.95044e+01\n  8.16783e+01  5.45537e+01  4.14386e+01  4.38324e+01  3.19526e+01\n  2.91014e+01  3.41036e+01  2.73543e+01  3.58789e+01  4.03908e+01\n  6.07278e+01  6.57558e+01  7.69504e+01  9.73124e+01  1.38864e+02\n  1.12435e+02  4.43919e+01  3.61226e+01  3.29933e+01  3.35168e+01\n  3.94801e+01  6.20949e+01  8.96000e+01  9.20736e+01  9.43446e+01\n  6.79767e+01  3.45401e+01  2.78426e+01  2.09599e+01  1.74583e+01\n  1.83336e+01  1.53518e+01  2.00276e+01  3.30824e+01  3.17638e+01\n  2.74904e+01  2.58942e+01  2.76683e+01  2.44443e+01  1.36575e+01\n  1.25164e+01  1.90640e+01  9.06069e+00  1.29011e+01  1.44876e+01\n  6.38846e+01 -9.99900e+03 -9.99900e+03 -9.99900e+03 -9.99900e+03\n  1.38885e+01  8.93236e+00  2.00481e+01  1.82264e+01  1.25581e+01\n  1.50639e+01  2.18563e+01  2.59353e+01  4.25533e+01  9.77722e+01\n  1.14293e+02  1.00397e+02  3.71715e+01  2.36750e+01  1.56378e+01\n  1.20728e+01  1.12842e+01  2.27143e+01  3.51558e+01  4.28008e+01\n  5.55001e+01  6.33599e+01  3.80172e+01  3.02565e+01  2.60311e+01\n  2.52475e+01  2.30893e+01  2.58208e+01  2.07663e+01  2.15442e+01\n  2.19390e+01  2.38460e+01  4.75560e+01  8.34779e+01  9.26676e+01\n  1.21969e+02  1.05104e+02  8.98846e+01  7.62953e+01  7.71808e+01\n  7.44165e+01  7.31149e+01  6.96124e+01  3.17731e+01  4.11181e+01\n  5.36149e+01  4.06915e+01  2.71517e+01  2.61197e+01  2.01401e+01\n  2.04578e+01  2.15819e+01  2.36640e+01  2.29758e+01  2.33839e+01\n  2.14301e+01  2.17039e+01  3.36656e+01  2.90733e+01  3.39386e+01\n  3.92663e+01  5.38949e+01  4.98407e+01  2.71087e+01  2.96310e+01\n  4.04210e+01  3.66989e+01  4.27111e+01  4.54710e+01  3.69461e+01\n  2.38701e+01  2.20199e+01  1.69378e+01  1.60163e+01  1.50382e+01\n  1.47482e+01  1.52726e+01  1.92275e+01  1.97264e+01  2.12771e+01\n  1.90156e+01  1.95478e+01  1.77943e+01  2.08004e+01  2.43761e+01\n  1.82543e+01  1.56010e+01  1.12565e+01  1.23860e+01  1.56282e+01\n  2.20124e+01  3.24153e+01  5.87072e+01  6.70253e+01  8.11349e+01\n  5.33242e+01  5.32878e+01  4.23315e+01  2.59517e+01  1.52653e+01\n  1.56671e+01  1.80689e+01  2.37274e+01  2.68604e+01  3.40035e+01\n  3.28594e+01  2.75828e+01  2.06218e+01  1.46511e+01  1.44603e+01\n  8.47264e+00  7.27347e+00  9.06181e+00  1.19626e+01  1.72868e+01\n  5.49499e+01  1.06109e+02  1.05152e+02  6.51233e+01  4.81521e+01\n  3.04418e+01  3.47149e+01  3.05839e+01  2.48153e+01  2.68008e+01\n  2.95090e+01  4.36478e+01  4.02354e+01  3.76362e+01  3.14779e+01\n  3.19547e+01  3.55603e+01  3.75357e+01  1.99058e+01  1.90897e+01\n  1.95221e+01  2.32214e+01  3.13546e+01  2.75805e+01  6.05333e+01\n  1.21497e+02  1.15915e+02  8.92086e+01  5.11485e+01  3.29565e+01\n  2.41389e+01  4.16567e+01  3.28043e+01  2.36603e+01  2.76843e+01\n  2.52536e+01  3.02267e+01  3.53178e+01  3.11533e+01  2.80947e+01\n  3.08421e+01  3.67515e+01  4.13575e+01  4.34485e+01  4.30722e+01\n  4.16843e+01  4.11465e+01  5.65075e+01  8.12039e+01  1.26079e+02\n  1.07141e+02  7.87439e+01  3.23994e+01  2.90857e+01  2.74240e+01\n  2.88975e+01  3.09730e+01  2.70204e+01  2.07378e+01  3.20269e+01\n  4.84279e+01  3.70996e+01  3.81390e+01  6.16643e+01  7.16261e+01\n  8.18974e+01  8.93942e+01  7.68378e+01  8.46506e+01  8.76708e+01\n  6.52179e+01  6.46671e+01  8.12925e+01  1.06710e+02  1.37220e+02\n  9.42394e+01  5.34540e+01  3.09036e+01  2.25706e+01  1.91168e+01\n  1.86742e+01  1.81021e+01  1.78506e+01  3.67761e+01  4.15067e+01\n  4.29936e+01  7.19372e+01  7.36892e+01  9.34586e+01  1.10639e+02\n  1.14169e+02  9.46875e+01 -9.99900e+03  8.19806e+01  5.12249e+01\n  6.08153e+01  4.27590e+01  4.45050e+01  3.32797e+01  2.14068e+01\n  2.94072e+01  2.35600e+01  2.70318e+01  2.42972e+01  2.13644e+01\n  2.00908e+01  2.76907e+01  3.03946e+01  4.91789e+01  7.36636e+01\n  6.77585e+01  6.54967e+01  9.26061e+01  3.96451e+01  4.42061e+01\n  3.37421e+01  3.69110e+01  3.07276e+01  2.70497e+01  3.22328e+01\n  3.03547e+01  3.11082e+01  3.05100e+01  3.26643e+01  2.31747e+01\n  1.84078e+01  1.63393e+01  1.19487e+01  1.08492e+01  1.16501e+01\n  1.39992e+01  1.75914e+01  2.16451e+01  2.55901e+01  4.53747e+01\n  4.33139e+01  2.60176e+01  1.76210e+01  2.50131e+01  2.86892e+01\n  2.53319e+01  2.90551e+01  2.96901e+01  3.30921e+01  7.09072e+01\n  9.06750e+01  7.14592e+01  6.83121e+01  8.54661e+01  3.88056e+01\n  1.55667e+01 -9.99900e+03 -9.99900e+03  8.48083e+00  1.93393e+01\n  4.59046e+01  8.48928e+01  1.31875e+02  3.52742e+01  2.83392e+01\n  1.86236e+01  1.40297e+01  8.07472e+00  7.52097e+00  5.61125e+00\n  9.02431e+00  7.17778e+00  3.62208e+00  1.21785e+01  3.51017e+01\n  4.07736e+01  3.71531e+01  1.81031e+01  1.62787e+01  1.51651e+01\n  1.42019e+01  1.14486e+01  1.00344e+01  1.28150e+01  1.47354e+01\n  1.86718e+01  3.13035e+01  5.60300e+01  6.69176e+01  4.67451e+01\n  5.13989e+01  9.83181e+00  1.05863e+01  1.43932e+01  6.03264e+00\n  8.17569e+00  1.33175e+01  1.58892e+01  2.62878e+01  6.10724e+01\n  6.80743e+01  6.33176e+01  2.85711e+01  1.85522e+01  2.21853e+01\n  2.82279e+01  3.33740e+01  2.61388e+01  1.58706e+01  4.40183e+01\n  7.69824e+01  8.24708e+01  9.04778e+01  5.13761e+01  3.74011e+01\n  5.54257e+01  3.94076e+01  3.31235e+01  3.26617e+01  3.05163e+01\n  2.88193e+01  3.75243e+01  7.00694e+01  6.32731e+01  4.03633e+01\n  4.28047e+01  3.23643e+01  1.72214e+01  1.99190e+01  1.60165e+01\n  2.37772e+01  2.59079e+01  4.11940e+01  2.62396e+01  6.28103e+01\n  7.35357e+01  5.07660e+01  4.95433e+01  3.54089e+01].\nReshape your data either using array.reshape(-1, 1) if your data has a single feature or array.reshape(1, -1) if it contains a single sample."
     ]
    }
   ],
   "source": []
  },
  {
   "cell_type": "code",
   "execution_count": null,
   "metadata": {},
   "outputs": [],
   "source": [
    "train_x = x[:80]\n",
    "train_y = y[:80]\n",
    "\n",
    "test_x = x[80:]\n",
    "test_y = y[80:]\n",
    "\n",
    "mymodel = numpy.poly1d(numpy.polyfit(train_x, train_y, 4))\n",
    "\n",
    "myline = numpy.linspace(0, 6, 100)\n",
    "\n",
    "plt.scatter(train_x, train_y)\n",
    "plt.plot(myline, mymodel(myline))\n",
    "plt.show()"
   ]
  }
 ],
 "metadata": {
  "kernelspec": {
   "display_name": "Python 3",
   "language": "python",
   "name": "python3"
  },
  "language_info": {
   "codemirror_mode": {
    "name": "ipython",
    "version": 3
   },
   "file_extension": ".py",
   "mimetype": "text/x-python",
   "name": "python",
   "nbconvert_exporter": "python",
   "pygments_lexer": "ipython3",
   "version": "3.7.4"
  }
 },
 "nbformat": 4,
 "nbformat_minor": 2
}
